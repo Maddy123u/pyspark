{
  "cells": [
    {
      "cell_type": "code",
      "execution_count": null,
      "metadata": {
        "colab": {
          "base_uri": "https://localhost:8080/"
        },
        "id": "QIgPtcEa-qkW",
        "outputId": "abe54ea5-5156-48ef-8b1d-49a73e70f6fb"
      },
      "outputs": [
        {
          "name": "stdout",
          "output_type": "stream",
          "text": [
            "Enter string:121\n",
            "121\n",
            "121 is a palindrome\n"
          ]
        }
      ],
      "source": [
        "num = input(\"Enter string:\")\n",
        "pal = num[::-1]\n",
        "print(pal)\n",
        "if pal == num:\n",
        "  print(f\"{num} is a palindrome\")\n",
        "else:\n",
        "  print(f\"{num} is not a palindrome\")"
      ]
    },
    {
      "cell_type": "code",
      "execution_count": null,
      "metadata": {
        "colab": {
          "base_uri": "https://localhost:8080/"
        },
        "id": "1nZRa2qO_Lj8",
        "outputId": "2f75bd63-167c-40dc-9b01-271d23702d10"
      },
      "outputs": [
        {
          "name": "stdout",
          "output_type": "stream",
          "text": [
            "array after sorting is [12, 10, 7, 5, 2]\n"
          ]
        }
      ],
      "source": [
        "li = [7,12,10,2,5]\n",
        "li = sorted(li,reverse = True)\n",
        "print(f\"array after sorting is {li}\")"
      ]
    },
    {
      "cell_type": "code",
      "execution_count": null,
      "metadata": {
        "colab": {
          "base_uri": "https://localhost:8080/"
        },
        "id": "hBO_nqKv_XYt",
        "outputId": "6344c109-4fbe-4f20-99d5-b100761b3cf7"
      },
      "outputs": [
        {
          "name": "stdout",
          "output_type": "stream",
          "text": [
            "Enter string:Hello World!\n",
            "string after getting reversed is !dlroW olleH\n"
          ]
        }
      ],
      "source": [
        "stri = input(\"Enter string:\")\n",
        "stri1 = stri[::-1]\n",
        "print(f\"string after getting reversed is {stri1}\")"
      ]
    },
    {
      "cell_type": "code",
      "execution_count": null,
      "metadata": {
        "colab": {
          "base_uri": "https://localhost:8080/"
        },
        "id": "pRrVCNiJ_nDV",
        "outputId": "aabf8afe-da1d-4978-ba74-3f2dc169d447"
      },
      "outputs": [
        {
          "name": "stdout",
          "output_type": "stream",
          "text": [
            "0b101\n"
          ]
        }
      ],
      "source": [
        "bin1 = \"011\"\n",
        "bin2 = \"10\"\n",
        "bin1 = int(bin1,2)\n",
        "bin2 = int(bin2,2)\n",
        "tot = bin1+bin2\n",
        "tot = bin(tot)\n",
        "print(tot)"
      ]
    },
    {
      "cell_type": "code",
      "execution_count": null,
      "metadata": {
        "colab": {
          "base_uri": "https://localhost:8080/"
        },
        "id": "Gcsl0jmXAT8D",
        "outputId": "6bf1f0ef-9801-4b6a-e164-3b703f049dea"
      },
      "outputs": [
        {
          "name": "stdout",
          "output_type": "stream",
          "text": [
            "array after sorting is [1, 2, 3, 4, 5, 6, 7, 8, 9, 10]\n"
          ]
        }
      ],
      "source": [
        "ar1 = [3,6,5]\n",
        "ar2 = [10,8,4,9,1,2,7]\n",
        "ar = ar1+ar2\n",
        "ar = sorted(ar)\n",
        "print(f\"array after sorting is {ar}\")"
      ]
    },
    {
      "cell_type": "code",
      "execution_count": null,
      "metadata": {
        "colab": {
          "base_uri": "https://localhost:8080/"
        },
        "id": "MnjOYmj7Ak9t",
        "outputId": "d770c680-67f4-411d-b68a-234af9e51b73"
      },
      "outputs": [
        {
          "name": "stdout",
          "output_type": "stream",
          "text": [
            "Duplicate values are [3, 1]\n"
          ]
        }
      ],
      "source": [
        "lo = [3,5,1,2,3,1]\n",
        "\n",
        "seen=[]\n",
        "dupli = []\n",
        "\n",
        "for i in lo:\n",
        "  if i in seen:\n",
        "    dupli.append(i)\n",
        "  else:\n",
        "    seen.append(i)\n",
        "print(\"Duplicate values are\",dupli)"
      ]
    },
    {
      "cell_type": "code",
      "execution_count": null,
      "metadata": {
        "id": "mNIRYtdGBqX4"
      },
      "outputs": [],
      "source": [
        "import numpy as np"
      ]
    },
    {
      "cell_type": "code",
      "execution_count": null,
      "metadata": {
        "colab": {
          "base_uri": "https://localhost:8080/"
        },
        "id": "CtmsXYMQBtmM",
        "outputId": "9de8b823-59ad-4d18-c959-82e635883710"
      },
      "outputs": [
        {
          "name": "stdout",
          "output_type": "stream",
          "text": [
            "sum of diagonal elements are {16}\n"
          ]
        }
      ],
      "source": [
        "sum = 0\n",
        "lj = [[9,8,7],[5,4,6],[1,2,3]]\n",
        "for i in range(len(lj)):\n",
        "  sum = lj[i][i]+sum\n",
        "print(f\"sum of diagonal elements are\",{sum})\n"
      ]
    },
    {
      "cell_type": "code",
      "execution_count": null,
      "metadata": {
        "colab": {
          "base_uri": "https://localhost:8080/"
        },
        "id": "me3W7RY8CrQ2",
        "outputId": "cae0a04d-8f64-445b-f3a9-9854f90a728a"
      },
      "outputs": [
        {
          "name": "stdout",
          "output_type": "stream",
          "text": [
            "enter number:123\n",
            "11.090536506409418\n",
            "11.090536506409418 is not a perfect square number\n"
          ]
        }
      ],
      "source": [
        "gh =  int(input(\"enter number:\"))\n",
        "rt = gh\n",
        "gh1 = np.sqrt(gh)\n",
        "print(gh1)\n",
        "if rt%gh1 == 0:\n",
        "  print(f\"{gh1} is a perfect square root number\")\n",
        "else:\n",
        "  print(f\"{gh1} is not a perfect square number\")"
      ]
    },
    {
      "cell_type": "code",
      "execution_count": null,
      "metadata": {
        "colab": {
          "base_uri": "https://localhost:8080/"
        },
        "id": "lsx68LfHDcbQ",
        "outputId": "48e3fc8a-6781-4bc5-b4f6-432845f47657"
      },
      "outputs": [
        {
          "name": "stdout",
          "output_type": "stream",
          "text": [
            "enter string:madurai\n",
            "m - 1\n",
            "a - 2\n",
            "d - 1\n",
            "u - 1\n",
            "r - 1\n",
            "i - 1\n"
          ]
        }
      ],
      "source": [
        "yu = input(\"enter string:\")\n",
        "chg = {}\n",
        "for cht in yu:\n",
        "  if cht in chg:\n",
        "    chg[cht] += 1\n",
        "  else:\n",
        "    chg[cht] = 1\n",
        "\n",
        "for chg,frequency in chg.items():\n",
        "  print(f\"{chg} - {frequency}\")\n",
        "\n"
      ]
    },
    {
      "cell_type": "code",
      "execution_count": null,
      "metadata": {
        "colab": {
          "base_uri": "https://localhost:8080/"
        },
        "id": "YOT4hHODGS1V",
        "outputId": "93437536-14b2-45eb-8fd7-af4c4d1980b3"
      },
      "outputs": [
        {
          "name": "stdout",
          "output_type": "stream",
          "text": [
            "enter number:50\n",
            "50 is not a prime number\n"
          ]
        }
      ],
      "source": [
        "jg = int(input(\"enter number:\"))\n",
        "if jg > 1:\n",
        "  for k in range(2,jg):\n",
        "    if jg%k == 0:\n",
        "      print(f\"{jg} is not a prime number\")\n",
        "      break\n",
        "  else:\n",
        "    print(f\"{jg} is a prime number\")\n",
        "else:\n",
        "  print(f\"{jg} is  not a prime number\")\n"
      ]
    },
    {
      "cell_type": "code",
      "execution_count": null,
      "metadata": {
        "colab": {
          "base_uri": "https://localhost:8080/"
        },
        "id": "FQmS1kTfHsGZ",
        "outputId": "c39944d2-e3ad-4593-f043-3e2195accf54"
      },
      "outputs": [
        {
          "name": "stdout",
          "output_type": "stream",
          "text": [
            "1\n",
            "4\n",
            "5\n",
            "9\n",
            "14\n",
            "23\n",
            "37\n"
          ]
        }
      ],
      "source": [
        "n1 = 1\n",
        "n2 = 4\n",
        "print(n1)\n",
        "print(n2)\n",
        "for i in range(5):\n",
        "  next_term = n1+n2\n",
        "  print(next_term)\n",
        "\n",
        "  n1,n2 = n2,next_term"
      ]
    },
    {
      "cell_type": "code",
      "execution_count": null,
      "metadata": {
        "colab": {
          "base_uri": "https://localhost:8080/"
        },
        "id": "L3z2EuFUHrE8",
        "outputId": "9df0991d-817a-4ff7-9552-a6d0aaafa030"
      },
      "outputs": [
        {
          "name": "stdout",
          "output_type": "stream",
          "text": [
            "enter string:input\n",
            "input contains vowels in it\n"
          ]
        }
      ],
      "source": [
        "stw = input(\"enter string:\")\n",
        "d = ['a','e','i','o','u','A','E','I','O','U']\n",
        "for h in stw:\n",
        "  if h in d:\n",
        "    print(f\"{stw} contains vowels in it\")\n",
        "    break\n",
        "  else:\n",
        "    print(f\"{stw} doesnt contains vowels in the string\")"
      ]
    },
    {
      "cell_type": "code",
      "execution_count": null,
      "metadata": {
        "colab": {
          "base_uri": "https://localhost:8080/"
        },
        "id": "V9X1XP2AJlAl",
        "outputId": "6cd8eb4b-227c-46f4-a998-c9c4b591b67a"
      },
      "outputs": [
        {
          "name": "stdout",
          "output_type": "stream",
          "text": [
            "enter str:hello world\n",
            "Length of last word,'world' is 5\n"
          ]
        }
      ],
      "source": [
        "stw1 = input(\"enter str:\")\n",
        "stw1 = stw1.split()\n",
        "stw1 = stw1[-1]\n",
        "print(f\"Length of last word,'{stw1}' is {len(stw1)}\")"
      ]
    },
    {
      "cell_type": "code",
      "execution_count": null,
      "metadata": {
        "colab": {
          "base_uri": "https://localhost:8080/"
        },
        "id": "ZUcsiQ23Kb14",
        "outputId": "53c5527c-b937-4f59-ff5c-bb4a570b1b29"
      },
      "outputs": [
        {
          "name": "stdout",
          "output_type": "stream",
          "text": [
            "enter number:4\n",
            "4 (nth) largest value is 5\n"
          ]
        }
      ],
      "source": [
        "gf = [6,5,4,3,1,8,2]\n",
        "gf = sorted(gf)\n",
        "i = int(input(\"enter number:\"))\n",
        "print(f\"{i} (nth) largest value is {gf[i]}\")"
      ]
    },
    {
      "cell_type": "code",
      "execution_count": null,
      "metadata": {
        "colab": {
          "base_uri": "https://localhost:8080/"
        },
        "id": "RMfVb4wbLSCC",
        "outputId": "5275cb12-6f55-40b9-cacf-f0de6884a950"
      },
      "outputs": [
        {
          "name": "stdout",
          "output_type": "stream",
          "text": [
            "Multiplied value:0b110\n"
          ]
        }
      ],
      "source": [
        "mul = bin1*bin2\n",
        "mul = bin(mul)\n",
        "print(f\"Multiplied value:{mul}\")"
      ]
    },
    {
      "cell_type": "code",
      "execution_count": null,
      "metadata": {
        "colab": {
          "base_uri": "https://localhost:8080/"
        },
        "id": "kMtUzNj5LdWS",
        "outputId": "1d8f5fab-7c6d-4d5f-93e6-877181ce6992"
      },
      "outputs": [
        {
          "name": "stdout",
          "output_type": "stream",
          "text": [
            "Decimal value: 13\n"
          ]
        }
      ],
      "source": [
        "bh = \"1101\"\n",
        "defu = int(bh,2)\n",
        "print(f\"Decimal value: {defu}\")"
      ]
    },
    {
      "cell_type": "code",
      "execution_count": null,
      "metadata": {
        "colab": {
          "base_uri": "https://localhost:8080/"
        },
        "id": "QlkjjuHFO4ZG",
        "outputId": "eda4692f-53f1-46dd-d05b-e086f6e6b764"
      },
      "outputs": [
        {
          "name": "stdout",
          "output_type": "stream",
          "text": [
            "enter string:143\n",
            "reversed string is 341\n"
          ]
        }
      ],
      "source": [
        "gl = input(\"enter string:\")\n",
        "res = \"\"\n",
        "for u in gl:\n",
        "  res = u+res\n",
        "print(f\"reversed string is {res}\")"
      ]
    },
    {
      "cell_type": "code",
      "execution_count": null,
      "metadata": {
        "colab": {
          "base_uri": "https://localhost:8080/"
        },
        "id": "edqt0oyCQcUL",
        "outputId": "dafc5d14-b6e0-43d3-95db-46480bf4a702"
      },
      "outputs": [
        {
          "name": "stdout",
          "output_type": "stream",
          "text": [
            "*****\n",
            "*   *\n",
            "*   *\n",
            "*   *\n",
            "*****\n"
          ]
        }
      ],
      "source": [
        "for row in range(5):\n",
        "  for col in range(5):\n",
        "    if col == 0 or col == 4 or ((row == 0 or row == 4) and (col > 0 or col < 4)):\n",
        "      print(\"*\",end=\"\")\n",
        "    else:\n",
        "      print(end = \" \")\n",
        "  print()"
      ]
    },
    {
      "cell_type": "code",
      "execution_count": null,
      "metadata": {
        "colab": {
          "base_uri": "https://localhost:8080/"
        },
        "id": "9w91o5c1RjE8",
        "outputId": "03c43e55-cd24-4ac1-adb7-9d59b5aefbde"
      },
      "outputs": [
        {
          "name": "stdout",
          "output_type": "stream",
          "text": [
            "enter num:153\n",
            "153\n",
            "153 is an armstrong number\n"
          ]
        }
      ],
      "source": [
        "nj = int(input(\"enter num:\"))\n",
        "nj1 = nj\n",
        "sum1 = 0\n",
        "for i in range(len(str(nj))):\n",
        "  dig = nj1%10\n",
        "  sum1 = sum1+dig**3\n",
        "  nj1 = nj1//10\n",
        "print(sum1)\n",
        "\n",
        "if sum1 == nj:\n",
        "  print(f\"{nj} is an armstrong number\")\n",
        "else:\n",
        "  print(f\"{nj} is not an armstrong number\")"
      ]
    },
    {
      "cell_type": "code",
      "execution_count": null,
      "metadata": {
        "colab": {
          "base_uri": "https://localhost:8080/"
        },
        "id": "y4N12PiRSVYn",
        "outputId": "a9b3b693-ccb5-4f10-dd28-63476c01ba1d"
      },
      "outputs": [
        {
          "name": "stdout",
          "output_type": "stream",
          "text": [
            "enter num:6\n",
            "6\n",
            "6 is a perfect number\n"
          ]
        }
      ],
      "source": [
        "per = int(input(\"enter num:\"))\n",
        "sum1 = 0\n",
        "for k in range(1,per):\n",
        "  if per%k == 0:\n",
        "    sum1 = sum1+k\n",
        "print(sum1)\n",
        "\n",
        "if sum1 == per:\n",
        "  print(f\"{per} is a perfect number\")\n",
        "else:\n",
        "  print(f\"{per} is not a perfect number\")"
      ]
    },
    {
      "cell_type": "code",
      "execution_count": null,
      "metadata": {
        "colab": {
          "base_uri": "https://localhost:8080/",
          "height": 219
        },
        "id": "WlEnZQdTTrPl",
        "outputId": "a8daae3a-74c7-497f-ec10-b4ee5c8eec09"
      },
      "outputs": [
        {
          "output_type": "error",
          "ename": "TypeError",
          "evalue": "'int' object is not iterable",
          "traceback": [
            "\u001b[0;31m---------------------------------------------------------------------------\u001b[0m",
            "\u001b[0;31mTypeError\u001b[0m                                 Traceback (most recent call last)",
            "\u001b[0;32m<ipython-input-48-1779913da753>\u001b[0m in \u001b[0;36m<cell line: 2>\u001b[0;34m()\u001b[0m\n\u001b[1;32m      1\u001b[0m \u001b[0mui\u001b[0m \u001b[0;34m=\u001b[0m \u001b[0;34m\"()[]{}\"\u001b[0m\u001b[0;34m\u001b[0m\u001b[0;34m\u001b[0m\u001b[0m\n\u001b[0;32m----> 2\u001b[0;31m \u001b[0;32mfor\u001b[0m \u001b[0mj\u001b[0m \u001b[0;32min\u001b[0m \u001b[0mlen\u001b[0m\u001b[0;34m(\u001b[0m\u001b[0mstr\u001b[0m\u001b[0;34m(\u001b[0m\u001b[0mui\u001b[0m\u001b[0;34m)\u001b[0m\u001b[0;34m)\u001b[0m\u001b[0;34m:\u001b[0m\u001b[0;34m\u001b[0m\u001b[0;34m\u001b[0m\u001b[0m\n\u001b[0m\u001b[1;32m      3\u001b[0m   \u001b[0;32mif\u001b[0m \u001b[0mui\u001b[0m\u001b[0;34m[\u001b[0m\u001b[0mj\u001b[0m\u001b[0;34m]\u001b[0m \u001b[0;34m==\u001b[0m \u001b[0;34m'('\u001b[0m \u001b[0;32mand\u001b[0m \u001b[0mui\u001b[0m\u001b[0;34m[\u001b[0m\u001b[0mj\u001b[0m\u001b[0;34m+\u001b[0m\u001b[0;36m1\u001b[0m\u001b[0;34m]\u001b[0m \u001b[0;34m==\u001b[0m \u001b[0;34m')'\u001b[0m\u001b[0;34m:\u001b[0m\u001b[0;34m\u001b[0m\u001b[0;34m\u001b[0m\u001b[0m\n\u001b[1;32m      4\u001b[0m     \u001b[0mprint\u001b[0m\u001b[0;34m(\u001b[0m\u001b[0;34m\"string is in correct syntax\"\u001b[0m\u001b[0;34m)\u001b[0m\u001b[0;34m\u001b[0m\u001b[0;34m\u001b[0m\u001b[0m\n\u001b[1;32m      5\u001b[0m     \u001b[0;32mbreak\u001b[0m\u001b[0;34m\u001b[0m\u001b[0;34m\u001b[0m\u001b[0m\n",
            "\u001b[0;31mTypeError\u001b[0m: 'int' object is not iterable"
          ]
        }
      ],
      "source": [
        "ui = \"()[]{}\"\n",
        "for j in len(str(ui)):\n",
        "  if ui[j] == '(' and ui[j+1] == ')':\n",
        "    print(\"string is in correct syntax\")\n",
        "    break\n",
        "  else:\n",
        "    print(\"string is not in correct syntax\")"
      ]
    },
    {
      "cell_type": "code",
      "execution_count": null,
      "metadata": {
        "colab": {
          "base_uri": "https://localhost:8080/"
        },
        "id": "_epUBTWTUG5B",
        "outputId": "aba5e9c8-123c-493c-c6bb-0fb45b973e08"
      },
      "outputs": [
        {
          "name": "stdout",
          "output_type": "stream",
          "text": [
            "[0, 0, 1, 1]\n"
          ]
        }
      ],
      "source": [
        "jh = [8,10,7,23]\n",
        "lo=[]\n",
        "for i in jh:\n",
        "  if i>1:\n",
        "    for j in range(2,i):\n",
        "      if i%j == 0:\n",
        "        lo.append(0)\n",
        "        break\n",
        "    else:\n",
        "      lo.append(1)\n",
        "  else:\n",
        "    lo.append(1)\n",
        "\n",
        "print(lo)\n"
      ]
    },
    {
      "cell_type": "code",
      "execution_count": null,
      "metadata": {
        "colab": {
          "base_uri": "https://localhost:8080/"
        },
        "id": "rL1HazgpVcX9",
        "outputId": "6775951d-3a0d-4e02-c224-a84a64035b74"
      },
      "outputs": [
        {
          "name": "stdout",
          "output_type": "stream",
          "text": [
            "* * * * * \n",
            "* * * * \n",
            "* * * \n",
            "* * \n",
            "* \n",
            "* \n",
            "* * \n",
            "* * * \n",
            "* * * * \n",
            "* * * * * \n"
          ]
        }
      ],
      "source": [
        "for row in range(5,0,-1):\n",
        "  for col in range(row):\n",
        "    print(\"*\",end=\" \")\n",
        "  print()\n",
        "for row in range(5):\n",
        "  for col in range(row+1):\n",
        "    print(\"*\",end = \" \")\n",
        "  print()"
      ]
    },
    {
      "cell_type": "code",
      "execution_count": null,
      "metadata": {
        "colab": {
          "base_uri": "https://localhost:8080/"
        },
        "id": "Ed4bPc5dVdw5",
        "outputId": "5b681639-34d5-49b6-bac7-6b9eebc6d07b"
      },
      "outputs": [
        {
          "name": "stdout",
          "output_type": "stream",
          "text": [
            "enter str:12348\n",
            "[1, 2, 3, 4, 8]\n",
            "9 9\n",
            "given number is a xylem number\n"
          ]
        }
      ],
      "source": [
        "kr = input(\"enter str:\")\n",
        "lo = []\n",
        "sum2 = 0\n",
        "for i in kr:\n",
        "  lo.append(int(i))\n",
        "print(lo)\n",
        "lo1 = lo[0]+lo[-1]\n",
        "for j in lo[1:-1]:\n",
        "  sum2 = sum2+j\n",
        "print(lo1,sum2)\n",
        "if lo1 == sum2:\n",
        "  print(\"given number is a xylem number\")\n",
        "else:\n",
        "  print(\"given number is not a xylem number\")"
      ]
    },
    {
      "cell_type": "code",
      "execution_count": null,
      "metadata": {
        "colab": {
          "base_uri": "https://localhost:8080/"
        },
        "id": "sGpBQgffYnxr",
        "outputId": "0df0be11-a07f-425b-8940-4f75ab7d2570"
      },
      "outputs": [
        {
          "name": "stdout",
          "output_type": "stream",
          "text": [
            "hexadecimal form:0x1a\n"
          ]
        }
      ],
      "source": [
        "num = 26\n",
        "decf = hex(num)\n",
        "print(f\"hexadecimal form:{decf}\")"
      ]
    },
    {
      "cell_type": "code",
      "execution_count": null,
      "metadata": {
        "colab": {
          "base_uri": "https://localhost:8080/"
        },
        "id": "Vof1-OfoYxXU",
        "outputId": "f1db7d7f-7857-4a6e-cf68-cb9a1bbf8e92"
      },
      "outputs": [
        {
          "name": "stdout",
          "output_type": "stream",
          "text": [
            "enter string:abcdefghijklmnopqrstuvwxyz\n",
            "['a', 'b', 'c', 'd', 'e', 'f', 'g', 'h', 'i', 'j', 'k', 'l', 'm', 'n', 'o', 'p', 'q', 'r', 's', 't', 'u', 'v', 'w', 'x', 'y', 'z']\n",
            "abcdefghijklmnopqrstuvwxyz is a pangram sentence\n"
          ]
        }
      ],
      "source": [
        "senc = input(\"enter string:\")\n",
        "lp = []\n",
        "for g in senc:\n",
        "  lp.append(g.lower())\n",
        "\n",
        "print(lp)\n",
        "\n",
        "if len(lp) == 26:\n",
        "  print(f\"{senc} is a pangram sentence\")\n",
        "else:\n",
        "  print(f\"{senc} is not a pangram sentence\")"
      ]
    },
    {
      "cell_type": "code",
      "execution_count": null,
      "metadata": {
        "colab": {
          "base_uri": "https://localhost:8080/"
        },
        "id": "pTXMrqJSaWHw",
        "outputId": "827374d3-263e-4312-81fb-9dc69c25ddf7"
      },
      "outputs": [
        {
          "name": "stdout",
          "output_type": "stream",
          "text": [
            "[[ 1  4 17]\n",
            " [ 2  5 16]\n",
            " [ 3  6 15]]\n"
          ]
        }
      ],
      "source": [
        "art = [[1,2,3],[4,5,6],[17,16,15]]\n",
        "art = np.transpose(art)\n",
        "print(art)"
      ]
    },
    {
      "cell_type": "code",
      "execution_count": null,
      "metadata": {
        "colab": {
          "base_uri": "https://localhost:8080/"
        },
        "id": "OLmzPiG4a893",
        "outputId": "0b30a6de-8f01-47fc-aa09-925993989ae4"
      },
      "outputs": [
        {
          "name": "stdout",
          "output_type": "stream",
          "text": [
            "Collecting num2words\n",
            "  Downloading num2words-0.5.13-py3-none-any.whl (143 kB)\n",
            "\u001b[?25l     \u001b[90m━━━━━━━━━━━━━━━━━━━━━━━━━━━━━━━━━━━━━━━━\u001b[0m \u001b[32m0.0/143.3 kB\u001b[0m \u001b[31m?\u001b[0m eta \u001b[36m-:--:--\u001b[0m\r\u001b[2K     \u001b[91m━━━━━━━━━━━━━━━━━━━━━━━━━━━━━━━━━━\u001b[0m\u001b[90m╺\u001b[0m\u001b[90m━━━━━\u001b[0m \u001b[32m122.9/143.3 kB\u001b[0m \u001b[31m3.5 MB/s\u001b[0m eta \u001b[36m0:00:01\u001b[0m\r\u001b[2K     \u001b[90m━━━━━━━━━━━━━━━━━━━━━━━━━━━━━━━━━━━━━━━━\u001b[0m \u001b[32m143.3/143.3 kB\u001b[0m \u001b[31m3.3 MB/s\u001b[0m eta \u001b[36m0:00:00\u001b[0m\n",
            "\u001b[?25hCollecting docopt>=0.6.2 (from num2words)\n",
            "  Downloading docopt-0.6.2.tar.gz (25 kB)\n",
            "  Preparing metadata (setup.py) ... \u001b[?25l\u001b[?25hdone\n",
            "Building wheels for collected packages: docopt\n",
            "  Building wheel for docopt (setup.py) ... \u001b[?25l\u001b[?25hdone\n",
            "  Created wheel for docopt: filename=docopt-0.6.2-py2.py3-none-any.whl size=13706 sha256=d965ccc445969574d2e45698ffdbc8b17b5eda9bd10afbd6b4980bd8894afefd\n",
            "  Stored in directory: /root/.cache/pip/wheels/fc/ab/d4/5da2067ac95b36618c629a5f93f809425700506f72c9732fac\n",
            "Successfully built docopt\n",
            "Installing collected packages: docopt, num2words\n",
            "Successfully installed docopt-0.6.2 num2words-0.5.13\n"
          ]
        }
      ],
      "source": [
        "pip install num2words"
      ]
    },
    {
      "cell_type": "code",
      "execution_count": null,
      "metadata": {
        "colab": {
          "base_uri": "https://localhost:8080/"
        },
        "id": "K3A_vpuhae2B",
        "outputId": "489b89e8-491b-4f34-e746-b89d8ed0cef6"
      },
      "outputs": [
        {
          "name": "stdout",
          "output_type": "stream",
          "text": [
            "enter str:12345\n",
            "twelve thousand, three hundred and forty-five\n"
          ]
        }
      ],
      "source": [
        "from num2words import num2words\n",
        "io = int(input(\"enter str:\"))\n",
        "io = num2words(io)\n",
        "print(io)"
      ]
    },
    {
      "cell_type": "code",
      "execution_count": null,
      "metadata": {
        "colab": {
          "base_uri": "https://localhost:8080/"
        },
        "id": "AN9I1vS8bIHd",
        "outputId": "e6110358-d4d9-42b5-c56c-40d5527210c4"
      },
      "outputs": [
        {
          "name": "stdout",
          "output_type": "stream",
          "text": [
            "[[2 6 8]\n",
            " [4 8 6]\n",
            " [4 6 9]]\n"
          ]
        }
      ],
      "source": [
        "ar1 = [[1,3,4],[2,4,3],[3,4,5]]\n",
        "ar1 =np.array(ar1)\n",
        "ar2 = [[1,3,4],[2,4,3],[1,2,4]]\n",
        "ar2 = np.array(ar2)\n",
        "ar = ar1+ar2\n",
        "ar3 = ar1-ar2\n",
        "print(ar)"
      ]
    },
    {
      "cell_type": "code",
      "execution_count": null,
      "metadata": {
        "colab": {
          "base_uri": "https://localhost:8080/"
        },
        "id": "J03nKWDYbY8l",
        "outputId": "e529e290-2e63-4c45-9557-4be52de8730b"
      },
      "outputs": [
        {
          "name": "stdout",
          "output_type": "stream",
          "text": [
            "[[0 0 0]\n",
            " [0 0 0]\n",
            " [2 2 1]]\n"
          ]
        }
      ],
      "source": [
        "print(ar3)"
      ]
    },
    {
      "cell_type": "code",
      "execution_count": null,
      "metadata": {
        "colab": {
          "base_uri": "https://localhost:8080/"
        },
        "id": "Ifl_GUO4bbYB",
        "outputId": "b55cd3ae-fb00-4a45-d3ff-01301c936f09"
      },
      "outputs": [
        {
          "name": "stdout",
          "output_type": "stream",
          "text": [
            "enter str:mam\n",
            "enter str:mam\n",
            "mam and mam are anagrams\n"
          ]
        }
      ],
      "source": [
        "str1 = input(\"enter str:\")\n",
        "str2 = input(\"enter str:\")\n",
        "if sorted(str1) ==  sorted(str2):\n",
        "  print(f\"{str1} and {str2} are anagrams\")\n",
        "else:\n",
        "  print(f\"{str1} and {str2} are not anagrams\")"
      ]
    },
    {
      "cell_type": "code",
      "execution_count": null,
      "metadata": {
        "colab": {
          "base_uri": "https://localhost:8080/"
        },
        "id": "QnXDXaIjbtNq",
        "outputId": "d1edcad7-73d8-4eed-a945-befe2d019bf8"
      },
      "outputs": [
        {
          "name": "stdout",
          "output_type": "stream",
          "text": [
            "str:the quick brown fox\n",
            "Result:The Quick Brown Fox\n"
          ]
        }
      ],
      "source": [
        "stei = input(\"str:\")\n",
        "stei = stei.title()\n",
        "print(f\"Result:{stei}\")"
      ]
    },
    {
      "cell_type": "code",
      "execution_count": null,
      "metadata": {
        "colab": {
          "base_uri": "https://localhost:8080/"
        },
        "id": "D7wbpkoFcK7K",
        "outputId": "7d8fcb63-764e-4490-eb0d-9a3e2c8b3932"
      },
      "outputs": [
        {
          "name": "stdout",
          "output_type": "stream",
          "text": [
            "matching characters:['d', 'e', 'f']\n"
          ]
        }
      ],
      "source": [
        "stq = 'abcdef'\n",
        "stw = 'defghi'\n",
        "on = []\n",
        "tw = []\n",
        "th = []\n",
        "for i in stq:\n",
        "  on.append(i)\n",
        "for j in stw:\n",
        "  tw.append(j)\n",
        "\n",
        "for k in on:\n",
        "  if k in tw:\n",
        "    th.append(k)\n",
        "\n",
        "print(f\"matching characters:{th}\")"
      ]
    },
    {
      "cell_type": "code",
      "execution_count": null,
      "metadata": {
        "colab": {
          "base_uri": "https://localhost:8080/"
        },
        "id": "STyU3kbetBj8",
        "outputId": "aed912bb-e86c-4351-b68b-dc196713b5dd"
      },
      "outputs": [
        {
          "name": "stdout",
          "output_type": "stream",
          "text": [
            "0 \n",
            "1 1 \n",
            "0 0 0 \n",
            "1 1 1 1 \n",
            "0 0 0 0 0 \n",
            "1 1 1 1 1 1 \n",
            "0 0 0 0 0 0 0 \n"
          ]
        }
      ],
      "source": [
        "for rw in range(7):\n",
        "  for col in range(rw+1):\n",
        "    if rw%2 == 0:\n",
        "      print(0,end = \" \")\n",
        "    else:\n",
        "      print(1,end = \" \")\n",
        "  print()"
      ]
    },
    {
      "cell_type": "code",
      "execution_count": null,
      "metadata": {
        "colab": {
          "base_uri": "https://localhost:8080/"
        },
        "id": "UYEJ5PkftBld",
        "outputId": "42ff17a5-65bd-4874-eeb1-7d53a017438a"
      },
      "outputs": [
        {
          "output_type": "stream",
          "name": "stdout",
          "text": [
            "enter string:vaadi cute pottai\n",
            "['a', ' ', 't', 't', 'a', 'i']\n",
            "['v', 'd', 'c', 'u', 'e', 'p', 'o']\n",
            "First non duplicate value : v\n",
            "Last non duplicate value: o\n"
          ]
        }
      ],
      "source": [
        "sew = input(\"enter string:\")\n",
        "seen= []\n",
        "dupo = []\n",
        "for i in sew:\n",
        "  if i in seen:\n",
        "    dupo.append(i)\n",
        "  else:\n",
        "    seen.append(i)\n",
        "\n",
        "for j in dupo:\n",
        "  if j in seen:\n",
        "    seen.remove(j)\n",
        "print(dupo)\n",
        "print(seen)\n",
        "\n",
        "print(f\"First non duplicate value : {seen[0]}\")\n",
        "print(f\"Last non duplicate value: {seen[-1]}\")\n"
      ]
    },
    {
      "cell_type": "code",
      "execution_count": null,
      "metadata": {
        "colab": {
          "base_uri": "https://localhost:8080/"
        },
        "id": "5G8ofiSBFHzG",
        "outputId": "19a5e8b2-c541-42b3-c7f5-d0354e913cb8"
      },
      "outputs": [
        {
          "name": "stdout",
          "output_type": "stream",
          "text": [
            "enter string:54321\n",
            "5 4 3 2 1 \n",
            "5 4 3 2 \n",
            "5 4 3 \n",
            "5 4 \n",
            "5 \n"
          ]
        }
      ],
      "source": [
        "code = input(\"enter string:\")\n",
        "for row in range(len(code),0,-1):\n",
        "  for col in range(row):\n",
        "    print(code[col],end=\" \")\n",
        "  print()\n",
        "\n",
        "\n"
      ]
    },
    {
      "cell_type": "code",
      "execution_count": null,
      "metadata": {
        "colab": {
          "base_uri": "https://localhost:8080/"
        },
        "id": "CdIZPCMfHPyt",
        "outputId": "98a452f6-255b-4e8d-9fc5-5050cede82b1"
      },
      "outputs": [
        {
          "name": "stdout",
          "output_type": "stream",
          "text": [
            "Output after finding maximum odd value in list: [4, 7, 5, 7, 4]\n"
          ]
        }
      ],
      "source": [
        "lp = [4,0,5,7,4]\n",
        "jo = []\n",
        "li = []\n",
        "\n",
        "# Finding odd values in lp\n",
        "for i in lp:\n",
        "    if i != 0 and i % 2 != 0:\n",
        "        li.append(i)\n",
        "\n",
        "# If there are odd values in li, replace 0's in lp with the maximum odd value\n",
        "if li:\n",
        "    for p in range(len(lp)):\n",
        "        if lp[p] == 0:\n",
        "            lp[p] = max(li)\n",
        "\n",
        "print(\"Output after finding maximum odd value in list:\", lp)\n"
      ]
    },
    {
      "cell_type": "code",
      "execution_count": null,
      "metadata": {
        "colab": {
          "base_uri": "https://localhost:8080/"
        },
        "id": "tSpdrdAv5329",
        "outputId": "e39811d0-1f4d-481c-b40e-ca5e22544e7e"
      },
      "outputs": [
        {
          "name": "stdout",
          "output_type": "stream",
          "text": [
            "Resulting array : [1, 3, 2, 6, 0]\n"
          ]
        }
      ],
      "source": [
        "jn = [1,3,2,6,1]\n",
        "ser = []\n",
        "for i  in jn:\n",
        "  if i in ser:\n",
        "    ser.append(0)\n",
        "  else:\n",
        "    ser.append(i)\n",
        "print(f\"Resulting array : {ser}\")"
      ]
    },
    {
      "cell_type": "code",
      "execution_count": null,
      "metadata": {
        "colab": {
          "base_uri": "https://localhost:8080/"
        },
        "id": "fs-qPOG18lRe",
        "outputId": "33caef67-a487-4930-b5f2-df75bfac7d64"
      },
      "outputs": [
        {
          "name": "stdout",
          "output_type": "stream",
          "text": [
            "enter string:I'm a Fresher\n",
            "enter string-2\n",
            "erI'm a Fresh\n"
          ]
        }
      ],
      "source": [
        "jb = input(\"enter string:\")\n",
        "num = int(input(\"enter string\"))\n",
        "first = jb[num:]\n",
        "second = jb[0:num]\n",
        "tot = first+second\n",
        "print(tot)"
      ]
    },
    {
      "cell_type": "code",
      "execution_count": null,
      "metadata": {
        "colab": {
          "base_uri": "https://localhost:8080/"
        },
        "id": "13oHZDMa8lUB",
        "outputId": "0ad1e623-5fad-4c5e-9c9b-b29c11e7ebe9"
      },
      "outputs": [
        {
          "output_type": "stream",
          "name": "stdout",
          "text": [
            "enter one:0\n",
            "enter two:2\n",
            "[[1, 2, 3], [4, 5, 6], [7, 8, 9]]\n"
          ]
        }
      ],
      "source": [
        "jh = [[7,8,9],[4,5,6],[1,2,3]]\n",
        "swap1 = int(input(\"enter one:\"))\n",
        "swap2 = int(input(\"enter two:\"))\n",
        "a = jh[swap1]\n",
        "jh[swap1] = jh[swap2]\n",
        "jh[swap2] = a\n",
        "print(jh)"
      ]
    },
    {
      "cell_type": "code",
      "execution_count": null,
      "metadata": {
        "colab": {
          "base_uri": "https://localhost:8080/"
        },
        "id": "WBsxWg298lWy",
        "outputId": "e7e80de0-adc4-480a-f941-9e4ec69bb89d"
      },
      "outputs": [
        {
          "name": "stdout",
          "output_type": "stream",
          "text": [
            "min:1,max:17,sum:69,average:7.666666666666667\n"
          ]
        }
      ],
      "source": [
        "ae = [[1,2,3],[4,5,6],[15,16,17]]\n",
        "import numpy as np\n",
        "ae = np.array(ae)\n",
        "min = np.max(ae)\n",
        "max = np.min(ae)\n",
        "seu = np.sum(ae)\n",
        "avg = np.average(ae)\n",
        "print(f\"min:{max},max:{min},sum:{seu},average:{avg}\")"
      ]
    },
    {
      "cell_type": "code",
      "execution_count": null,
      "metadata": {
        "colab": {
          "base_uri": "https://localhost:8080/"
        },
        "id": "XYWOMlxjiU93",
        "outputId": "8b717f20-e59d-4879-a7c5-53d9351d38ce"
      },
      "outputs": [
        {
          "name": "stdout",
          "output_type": "stream",
          "text": [
            "[ 3  9 15]\n",
            "[15 16 17]\n",
            "15 is the lucky number\n"
          ]
        }
      ],
      "source": [
        "import numpy as np\n",
        "pi = [[3,7,8],[9,11,13],[15,16,17]]\n",
        "pi = np.array(pi)\n",
        "minimum = np.amin(pi, axis = 1)\n",
        "pi1 = np.transpose(pi)\n",
        "maximum = np.amax(pi1, axis=1)\n",
        "print(minimum)\n",
        "print(maximum)\n",
        "num = 0\n",
        "\n",
        "for j in minimum:\n",
        "  if j in maximum:\n",
        "    num = num+j\n",
        "    print(f\"{num} is the lucky number\")\n",
        "    break\n",
        "else:\n",
        "  print(f\"there us no lucky number in this matrix\")\n"
      ]
    },
    {
      "cell_type": "code",
      "execution_count": null,
      "metadata": {
        "colab": {
          "base_uri": "https://localhost:8080/"
        },
        "id": "Y1Y8jaZ_YYN_",
        "outputId": "306598c4-d33f-4a18-e9be-34d2b0bfaf13"
      },
      "outputs": [
        {
          "name": "stdout",
          "output_type": "stream",
          "text": [
            "The guven matrix is identity matrix\n"
          ]
        }
      ],
      "source": [
        "matrix = np.array([[1,0,0],[0,1,0],[0,0,1]])\n",
        "numi = matrix.shape[0]\n",
        "identity1 = np.identity(numi,dtype=matrix.dtype)\n",
        "equal = np.array_equal(matrix,identity1)\n",
        "if equal:\n",
        "  print(\"The guven matrix is identity matrix\")\n",
        "else:\n",
        "   print(\"The guven matrix is not an identity matrix\")"
      ]
    },
    {
      "cell_type": "code",
      "execution_count": null,
      "metadata": {
        "colab": {
          "base_uri": "https://localhost:8080/"
        },
        "id": "HqtGSTInlJw5",
        "outputId": "5d46eb04-aad6-4b67-c862-8b2501d0808e"
      },
      "outputs": [
        {
          "name": "stdout",
          "output_type": "stream",
          "text": [
            "enter string:I Love You 3000\n",
            "['I', 'L', 'o', 'v', 'e', 'Y', 'o', 'u', '3', '0', '0', '0']\n"
          ]
        }
      ],
      "source": [
        "stq = input(\"enter string:\")\n",
        "upper=[]\n",
        "lower=[]\n",
        "digit=[]\n",
        "tot=[]\n",
        "\n",
        "for i in stq:\n",
        "  if i.isalpha() or i.isdigit():\n",
        "    tot.append(i)\n",
        "\n",
        "print(tot)"
      ]
    },
    {
      "cell_type": "code",
      "execution_count": null,
      "metadata": {
        "colab": {
          "base_uri": "https://localhost:8080/"
        },
        "id": "RS42msO0EGaV",
        "outputId": "effdffad-5eea-4112-d385-53b3deabee06"
      },
      "outputs": [
        {
          "name": "stdout",
          "output_type": "stream",
          "text": [
            "['I', 'L', 'Y']\n",
            "Uppercase - 3 (25.0%)\n",
            "Lowercase - 5 (41.66666666666667%)\n",
            "Digits - 4 (33.33333333333333%)\n"
          ]
        }
      ],
      "source": [
        "for j in tot:\n",
        "  if j.isupper():\n",
        "    upper.append(j)\n",
        "  elif j.islower():\n",
        "    lower.append(j)\n",
        "  elif j.isdigit():\n",
        "    digit.append(j)\n",
        "print(upper)\n",
        "upper1 = ((len(upper))/((len(tot)))) * 100\n",
        "lower1 = ((len(lower))/((len(tot)))) * 100\n",
        "digit1 = ((len(digit))/((len(tot)))) * 100\n",
        "\n",
        "print(f\"Uppercase - {len(upper)} ({upper1}%)\")\n",
        "print(f\"Lowercase - {len(lower)} ({lower1}%)\")\n",
        "print(f\"Digits - {len(digit)} ({digit1}%)\")"
      ]
    },
    {
      "cell_type": "code",
      "execution_count": null,
      "metadata": {
        "colab": {
          "base_uri": "https://localhost:8080/"
        },
        "id": "TxvbUzq2GiNR",
        "outputId": "53ac36ab-1733-4e77-fae2-b46cef2f0685"
      },
      "outputs": [
        {
          "name": "stdout",
          "output_type": "stream",
          "text": [
            "enter num:38\n",
            "2\n"
          ]
        }
      ],
      "source": [
        "inu = int(input(\"enter num:\"))\n",
        "\n",
        "while inu >= 10:\n",
        "  su = 0\n",
        "  for i in str(inu):\n",
        "    su = su+int(i)\n",
        "\n",
        "    inu = su\n",
        "\n",
        "print(inu)"
      ]
    },
    {
      "cell_type": "code",
      "execution_count": null,
      "metadata": {
        "colab": {
          "base_uri": "https://localhost:8080/"
        },
        "id": "nWguEMC8DV4J",
        "outputId": "251c8aad-0ff0-45c1-f81c-4a7fef8c110e"
      },
      "outputs": [
        {
          "name": "stdout",
          "output_type": "stream",
          "text": [
            "Numbers with more than one same digit: [101, 110, 111, 112, 113, 114, 115, 116, 117, 118, 119, 121, 122, 131, 133, 141, 144, 151, 155, 161, 166, 171, 177, 181, 188, 191, 199, 200]\n"
          ]
        }
      ],
      "source": [
        "# Initialize a list to store numbers with more than one same digit\n",
        "jd = []\n",
        "\n",
        "# Iterate over numbers from 101 to 200\n",
        "for number in range(101, 201):\n",
        "    # Convert number to string\n",
        "    number_str = str(number)\n",
        "\n",
        "    # Initialize a dictionary to store the count of each digit\n",
        "    digit_count = {}\n",
        "\n",
        "    # Iterate over each digit in the number\n",
        "    for digit in number_str:\n",
        "        # If the digit is already in the dictionary, increment its count\n",
        "        if digit in digit_count:\n",
        "            digit_count[digit] += 1\n",
        "        # If the digit is not in the dictionary, initialize its count to 1\n",
        "        else:\n",
        "            digit_count[digit] = 1\n",
        "\n",
        "    # Check if any digit occurs more than once\n",
        "    digit_more_than_once = any(count > 1 for count in digit_count.values())\n",
        "\n",
        "    # If any digit occurs more than once, add the number to the list\n",
        "    if digit_more_than_once:\n",
        "        jd.append(number)\n",
        "\n",
        "# Print the list of numbers with more than one same digit\n",
        "print(\"Numbers with more than one same digit:\", jd)\n"
      ]
    },
    {
      "cell_type": "code",
      "execution_count": null,
      "metadata": {
        "colab": {
          "base_uri": "https://localhost:8080/"
        },
        "id": "mJD7uj9YXR7Z",
        "outputId": "3f946d85-355e-4020-801c-8eff717dee10"
      },
      "outputs": [
        {
          "name": "stdout",
          "output_type": "stream",
          "text": [
            "[101, 101, 101, 110, 110, 110, 111, 111, 111, 112, 112, 112, 113, 113, 113, 114, 114, 114, 115, 115, 115]\n"
          ]
        }
      ],
      "source": [
        "rh = []\n",
        "su = 0\n",
        "for i  in jd:\n",
        "  ty = i\n",
        "  while i > 0:\n",
        "    di = i%10\n",
        "    su = su+di\n",
        "    i = i//10\n",
        "    if  su <= 5:\n",
        "      rh.append(ty)\n",
        "      su = 0\n",
        "\n",
        "print(rh)\n",
        "\n"
      ]
    },
    {
      "cell_type": "code",
      "execution_count": null,
      "metadata": {
        "colab": {
          "base_uri": "https://localhost:8080/"
        },
        "id": "lumtVeEwbGwP",
        "outputId": "f8f8a5ea-d59d-49ed-a2b9-532ddbdce2fa"
      },
      "outputs": [
        {
          "name": "stdout",
          "output_type": "stream",
          "text": [
            "5 5 5 5 5 \n",
            "4 4 4 4 \n",
            "3 3 3 \n",
            "2 2 \n",
            "1 \n"
          ]
        }
      ],
      "source": [
        "k = 5\n",
        "for row in range(k,0,-1):\n",
        "  for col in range(k):\n",
        "    print(row , end = \" \")\n",
        "  print()\n",
        "  k = k-1\n"
      ]
    },
    {
      "cell_type": "code",
      "execution_count": null,
      "metadata": {
        "colab": {
          "base_uri": "https://localhost:8080/",
          "height": 73
        },
        "id": "De5oevRl-X7b",
        "outputId": "8148bc41-353f-44c3-a5af-0b241cb969e5"
      },
      "outputs": [
        {
          "data": {
            "text/html": [
              "\n",
              "     <input type=\"file\" id=\"files-52cecc2a-5757-4349-a617-506e5395a321\" name=\"files[]\" multiple disabled\n",
              "        style=\"border:none\" />\n",
              "     <output id=\"result-52cecc2a-5757-4349-a617-506e5395a321\">\n",
              "      Upload widget is only available when the cell has been executed in the\n",
              "      current browser session. Please rerun this cell to enable.\n",
              "      </output>\n",
              "      <script>// Copyright 2017 Google LLC\n",
              "//\n",
              "// Licensed under the Apache License, Version 2.0 (the \"License\");\n",
              "// you may not use this file except in compliance with the License.\n",
              "// You may obtain a copy of the License at\n",
              "//\n",
              "//      http://www.apache.org/licenses/LICENSE-2.0\n",
              "//\n",
              "// Unless required by applicable law or agreed to in writing, software\n",
              "// distributed under the License is distributed on an \"AS IS\" BASIS,\n",
              "// WITHOUT WARRANTIES OR CONDITIONS OF ANY KIND, either express or implied.\n",
              "// See the License for the specific language governing permissions and\n",
              "// limitations under the License.\n",
              "\n",
              "/**\n",
              " * @fileoverview Helpers for google.colab Python module.\n",
              " */\n",
              "(function(scope) {\n",
              "function span(text, styleAttributes = {}) {\n",
              "  const element = document.createElement('span');\n",
              "  element.textContent = text;\n",
              "  for (const key of Object.keys(styleAttributes)) {\n",
              "    element.style[key] = styleAttributes[key];\n",
              "  }\n",
              "  return element;\n",
              "}\n",
              "\n",
              "// Max number of bytes which will be uploaded at a time.\n",
              "const MAX_PAYLOAD_SIZE = 100 * 1024;\n",
              "\n",
              "function _uploadFiles(inputId, outputId) {\n",
              "  const steps = uploadFilesStep(inputId, outputId);\n",
              "  const outputElement = document.getElementById(outputId);\n",
              "  // Cache steps on the outputElement to make it available for the next call\n",
              "  // to uploadFilesContinue from Python.\n",
              "  outputElement.steps = steps;\n",
              "\n",
              "  return _uploadFilesContinue(outputId);\n",
              "}\n",
              "\n",
              "// This is roughly an async generator (not supported in the browser yet),\n",
              "// where there are multiple asynchronous steps and the Python side is going\n",
              "// to poll for completion of each step.\n",
              "// This uses a Promise to block the python side on completion of each step,\n",
              "// then passes the result of the previous step as the input to the next step.\n",
              "function _uploadFilesContinue(outputId) {\n",
              "  const outputElement = document.getElementById(outputId);\n",
              "  const steps = outputElement.steps;\n",
              "\n",
              "  const next = steps.next(outputElement.lastPromiseValue);\n",
              "  return Promise.resolve(next.value.promise).then((value) => {\n",
              "    // Cache the last promise value to make it available to the next\n",
              "    // step of the generator.\n",
              "    outputElement.lastPromiseValue = value;\n",
              "    return next.value.response;\n",
              "  });\n",
              "}\n",
              "\n",
              "/**\n",
              " * Generator function which is called between each async step of the upload\n",
              " * process.\n",
              " * @param {string} inputId Element ID of the input file picker element.\n",
              " * @param {string} outputId Element ID of the output display.\n",
              " * @return {!Iterable<!Object>} Iterable of next steps.\n",
              " */\n",
              "function* uploadFilesStep(inputId, outputId) {\n",
              "  const inputElement = document.getElementById(inputId);\n",
              "  inputElement.disabled = false;\n",
              "\n",
              "  const outputElement = document.getElementById(outputId);\n",
              "  outputElement.innerHTML = '';\n",
              "\n",
              "  const pickedPromise = new Promise((resolve) => {\n",
              "    inputElement.addEventListener('change', (e) => {\n",
              "      resolve(e.target.files);\n",
              "    });\n",
              "  });\n",
              "\n",
              "  const cancel = document.createElement('button');\n",
              "  inputElement.parentElement.appendChild(cancel);\n",
              "  cancel.textContent = 'Cancel upload';\n",
              "  const cancelPromise = new Promise((resolve) => {\n",
              "    cancel.onclick = () => {\n",
              "      resolve(null);\n",
              "    };\n",
              "  });\n",
              "\n",
              "  // Wait for the user to pick the files.\n",
              "  const files = yield {\n",
              "    promise: Promise.race([pickedPromise, cancelPromise]),\n",
              "    response: {\n",
              "      action: 'starting',\n",
              "    }\n",
              "  };\n",
              "\n",
              "  cancel.remove();\n",
              "\n",
              "  // Disable the input element since further picks are not allowed.\n",
              "  inputElement.disabled = true;\n",
              "\n",
              "  if (!files) {\n",
              "    return {\n",
              "      response: {\n",
              "        action: 'complete',\n",
              "      }\n",
              "    };\n",
              "  }\n",
              "\n",
              "  for (const file of files) {\n",
              "    const li = document.createElement('li');\n",
              "    li.append(span(file.name, {fontWeight: 'bold'}));\n",
              "    li.append(span(\n",
              "        `(${file.type || 'n/a'}) - ${file.size} bytes, ` +\n",
              "        `last modified: ${\n",
              "            file.lastModifiedDate ? file.lastModifiedDate.toLocaleDateString() :\n",
              "                                    'n/a'} - `));\n",
              "    const percent = span('0% done');\n",
              "    li.appendChild(percent);\n",
              "\n",
              "    outputElement.appendChild(li);\n",
              "\n",
              "    const fileDataPromise = new Promise((resolve) => {\n",
              "      const reader = new FileReader();\n",
              "      reader.onload = (e) => {\n",
              "        resolve(e.target.result);\n",
              "      };\n",
              "      reader.readAsArrayBuffer(file);\n",
              "    });\n",
              "    // Wait for the data to be ready.\n",
              "    let fileData = yield {\n",
              "      promise: fileDataPromise,\n",
              "      response: {\n",
              "        action: 'continue',\n",
              "      }\n",
              "    };\n",
              "\n",
              "    // Use a chunked sending to avoid message size limits. See b/62115660.\n",
              "    let position = 0;\n",
              "    do {\n",
              "      const length = Math.min(fileData.byteLength - position, MAX_PAYLOAD_SIZE);\n",
              "      const chunk = new Uint8Array(fileData, position, length);\n",
              "      position += length;\n",
              "\n",
              "      const base64 = btoa(String.fromCharCode.apply(null, chunk));\n",
              "      yield {\n",
              "        response: {\n",
              "          action: 'append',\n",
              "          file: file.name,\n",
              "          data: base64,\n",
              "        },\n",
              "      };\n",
              "\n",
              "      let percentDone = fileData.byteLength === 0 ?\n",
              "          100 :\n",
              "          Math.round((position / fileData.byteLength) * 100);\n",
              "      percent.textContent = `${percentDone}% done`;\n",
              "\n",
              "    } while (position < fileData.byteLength);\n",
              "  }\n",
              "\n",
              "  // All done.\n",
              "  yield {\n",
              "    response: {\n",
              "      action: 'complete',\n",
              "    }\n",
              "  };\n",
              "}\n",
              "\n",
              "scope.google = scope.google || {};\n",
              "scope.google.colab = scope.google.colab || {};\n",
              "scope.google.colab._files = {\n",
              "  _uploadFiles,\n",
              "  _uploadFilesContinue,\n",
              "};\n",
              "})(self);\n",
              "</script> "
            ],
            "text/plain": [
              "<IPython.core.display.HTML object>"
            ]
          },
          "metadata": {},
          "output_type": "display_data"
        },
        {
          "name": "stdout",
          "output_type": "stream",
          "text": [
            "Saving Orders.csv to Orders.csv\n"
          ]
        }
      ],
      "source": [
        "from google.colab import files\n",
        "up = files.upload()\n"
      ]
    },
    {
      "cell_type": "code",
      "execution_count": null,
      "metadata": {
        "colab": {
          "base_uri": "https://localhost:8080/"
        },
        "id": "-rmVlBwEVHCW",
        "outputId": "5edd293f-cc8d-45cb-8252-8e1d5d9e15df"
      },
      "outputs": [
        {
          "output_type": "stream",
          "name": "stdout",
          "text": [
            "Collecting pyspark\n",
            "  Downloading pyspark-3.5.1.tar.gz (317.0 MB)\n",
            "\u001b[2K     \u001b[90m━━━━━━━━━━━━━━━━━━━━━━━━━━━━━━━━━━━━━━━━\u001b[0m \u001b[32m317.0/317.0 MB\u001b[0m \u001b[31m2.1 MB/s\u001b[0m eta \u001b[36m0:00:00\u001b[0m\n",
            "\u001b[?25h  Preparing metadata (setup.py) ... \u001b[?25l\u001b[?25hdone\n",
            "Requirement already satisfied: py4j==0.10.9.7 in /usr/local/lib/python3.10/dist-packages (from pyspark) (0.10.9.7)\n",
            "Building wheels for collected packages: pyspark\n",
            "  Building wheel for pyspark (setup.py) ... \u001b[?25l\u001b[?25hdone\n",
            "  Created wheel for pyspark: filename=pyspark-3.5.1-py2.py3-none-any.whl size=317488491 sha256=27f4b2823cb7c731bcc18a931624115b58e3efd6744090cb1e683dd45c2bc159\n",
            "  Stored in directory: /root/.cache/pip/wheels/80/1d/60/2c256ed38dddce2fdd93be545214a63e02fbd8d74fb0b7f3a6\n",
            "Successfully built pyspark\n",
            "Installing collected packages: pyspark\n",
            "Successfully installed pyspark-3.5.1\n"
          ]
        }
      ],
      "source": [
        "!pip install pyspark"
      ]
    },
    {
      "cell_type": "code",
      "execution_count": null,
      "metadata": {
        "id": "i_c0vlhzVHFb"
      },
      "outputs": [],
      "source": [
        "import pyspark\n",
        "from pyspark.sql import SparkSession"
      ]
    },
    {
      "cell_type": "code",
      "execution_count": null,
      "metadata": {
        "id": "xl-BwvUoVHIz"
      },
      "outputs": [],
      "source": [
        "spark = SparkSession.builder.appName('app').getOrCreate()"
      ]
    },
    {
      "cell_type": "code",
      "execution_count": null,
      "metadata": {
        "colab": {
          "base_uri": "https://localhost:8080/",
          "height": 204
        },
        "id": "nBSc9zlWVHMJ",
        "outputId": "967a8f5e-36c4-4060-8ca1-0a93bfb001ba"
      },
      "outputs": [
        {
          "output_type": "execute_result",
          "data": {
            "text/plain": [
              "pyspark.sql.session.SparkSession"
            ],
            "text/html": [
              "<div style=\"max-width:800px; border: 1px solid var(--colab-border-color);\"><style>\n",
              "      pre.function-repr-contents {\n",
              "        overflow-x: auto;\n",
              "        padding: 8px 12px;\n",
              "        max-height: 500px;\n",
              "      }\n",
              "\n",
              "      pre.function-repr-contents.function-repr-contents-collapsed {\n",
              "        cursor: pointer;\n",
              "        max-height: 100px;\n",
              "      }\n",
              "    </style>\n",
              "    <pre style=\"white-space: initial; background:\n",
              "         var(--colab-secondary-surface-color); padding: 8px 12px;\n",
              "         border-bottom: 1px solid var(--colab-border-color);\"><b>pyspark.sql.session.SparkSession</b><br/>def __init__(sparkContext: SparkContext, jsparkSession: Optional[JavaObject]=None, options: Dict[str, Any]={})</pre><pre class=\"function-repr-contents function-repr-contents-collapsed\" style=\"\"><a class=\"filepath\" style=\"display:none\" href=\"#\">/usr/local/lib/python3.10/dist-packages/pyspark/sql/session.py</a>The entry point to programming Spark with the Dataset and DataFrame API.\n",
              "\n",
              "A SparkSession can be used to create :class:`DataFrame`, register :class:`DataFrame` as\n",
              "tables, execute SQL over tables, cache tables, and read parquet files.\n",
              "To create a :class:`SparkSession`, use the following builder pattern:\n",
              "\n",
              ".. versionchanged:: 3.4.0\n",
              "    Supports Spark Connect.\n",
              "\n",
              ".. autoattribute:: builder\n",
              "   :annotation:\n",
              "\n",
              "Examples\n",
              "--------\n",
              "Create a Spark session.\n",
              "\n",
              "&gt;&gt;&gt; spark = (\n",
              "...     SparkSession.builder\n",
              "...         .master(&quot;local&quot;)\n",
              "...         .appName(&quot;Word Count&quot;)\n",
              "...         .config(&quot;spark.some.config.option&quot;, &quot;some-value&quot;)\n",
              "...         .getOrCreate()\n",
              "... )\n",
              "\n",
              "Create a Spark session with Spark Connect.\n",
              "\n",
              "&gt;&gt;&gt; spark = (\n",
              "...     SparkSession.builder\n",
              "...         .remote(&quot;sc://localhost&quot;)\n",
              "...         .appName(&quot;Word Count&quot;)\n",
              "...         .config(&quot;spark.some.config.option&quot;, &quot;some-value&quot;)\n",
              "...         .getOrCreate()\n",
              "... )  # doctest: +SKIP</pre>\n",
              "      <script>\n",
              "      if (google.colab.kernel.accessAllowed && google.colab.files && google.colab.files.view) {\n",
              "        for (const element of document.querySelectorAll('.filepath')) {\n",
              "          element.style.display = 'block'\n",
              "          element.onclick = (event) => {\n",
              "            event.preventDefault();\n",
              "            event.stopPropagation();\n",
              "            google.colab.files.view(element.textContent, 166);\n",
              "          };\n",
              "        }\n",
              "      }\n",
              "      for (const element of document.querySelectorAll('.function-repr-contents')) {\n",
              "        element.onclick = (event) => {\n",
              "          event.preventDefault();\n",
              "          event.stopPropagation();\n",
              "          element.classList.toggle('function-repr-contents-collapsed');\n",
              "        };\n",
              "      }\n",
              "      </script>\n",
              "      </div>"
            ]
          },
          "metadata": {},
          "execution_count": 29
        }
      ],
      "source": [
        "type(spark)"
      ]
    },
    {
      "cell_type": "code",
      "execution_count": null,
      "metadata": {
        "id": "qjDjFRyGVHPV"
      },
      "outputs": [],
      "source": [
        "spark = spark.read.csv('Orders.csv',header = True,inferSchema = True)"
      ]
    },
    {
      "cell_type": "code",
      "execution_count": null,
      "metadata": {
        "colab": {
          "base_uri": "https://localhost:8080/"
        },
        "id": "MEF0wqJBVHSu",
        "outputId": "d972e5f1-9889-4794-c668-ea55b675f3a8"
      },
      "outputs": [
        {
          "output_type": "stream",
          "name": "stdout",
          "text": [
            "<class 'pyspark.sql.dataframe.DataFrame'>\n",
            "+--------+------+------+--------+-----------+----------------+-----------+\n",
            "|Order_ID|Amount|Profit|Quantity|   Category|    Sub-Category|PaymentMode|\n",
            "+--------+------+------+--------+-----------+----------------+-----------+\n",
            "| B-25681|  1096|   658|       7|Electronics|Electronic Games|        COD|\n",
            "| B-26055|  5729|    64|      14|  Furniture|          Chairs|        EMI|\n",
            "| B-25955|  2927|   146|       8|  Furniture|       Bookcases|        EMI|\n",
            "| B-26093|  2847|   712|       8|Electronics|        Printers|Credit Card|\n",
            "| B-25602|  2617|  1151|       4|Electronics|          Phones|Credit Card|\n",
            "| B-25881|  2244|   247|       4|   Clothing|        Trousers|Credit Card|\n",
            "| B-25696|   275|  -275|       4|   Clothing|           Saree|        COD|\n",
            "| B-25687|   387|  -213|       5|   Clothing|           Saree|        UPI|\n",
            "| B-25643|    50|   -44|       2|   Clothing|     Hankerchief|        UPI|\n",
            "| B-25851|   135|   -54|       5|   Clothing|           Kurti|        COD|\n",
            "| B-25703|   231|  -190|       9|   Clothing|     Hankerchief|        COD|\n",
            "| B-25887|  2125|  -234|       6|Electronics|        Printers|        EMI|\n",
            "| B-25923|  3873|  -891|       6|Electronics|          Phones|Credit Card|\n",
            "| B-25756|   729|  -492|       5|  Furniture|       Bookcases|        UPI|\n",
            "| B-25761|  2188|  1050|       5|  Furniture|       Bookcases|Credit Card|\n",
            "| B-25655|     6|    -3|       1|   Clothing|     Hankerchief|        UPI|\n",
            "| B-25786|  1854|   433|       5|  Furniture|       Bookcases|Credit Card|\n",
            "| B-26095|     6|     1|       1|   Clothing|           Kurti|        UPI|\n",
            "| B-25853|  2093|   721|       5|  Furniture|          Chairs|Credit Card|\n",
            "| B-25735|     7|    -1|       2|   Clothing|           Skirt|        UPI|\n",
            "+--------+------+------+--------+-----------+----------------+-----------+\n",
            "only showing top 20 rows\n",
            "\n"
          ]
        }
      ],
      "source": [
        "print(type(spark))\n",
        "spark.show()"
      ]
    },
    {
      "cell_type": "code",
      "execution_count": null,
      "metadata": {
        "colab": {
          "base_uri": "https://localhost:8080/"
        },
        "id": "JssXmSIEVHWJ",
        "outputId": "15792cdc-6bc1-4b03-8f24-79fbcb46edd5"
      },
      "outputs": [
        {
          "output_type": "execute_result",
          "data": {
            "text/plain": [
              "[Row(Order_ID='B-25681', Amount=1096, Profit=658, Quantity=7, Category='Electronics', Sub-Category='Electronic Games', PaymentMode='COD'),\n",
              " Row(Order_ID='B-26055', Amount=5729, Profit=64, Quantity=14, Category='Furniture', Sub-Category='Chairs', PaymentMode='EMI'),\n",
              " Row(Order_ID='B-25955', Amount=2927, Profit=146, Quantity=8, Category='Furniture', Sub-Category='Bookcases', PaymentMode='EMI')]"
            ]
          },
          "metadata": {},
          "execution_count": 32
        }
      ],
      "source": [
        "spark.head(3)\n"
      ]
    },
    {
      "cell_type": "code",
      "execution_count": null,
      "metadata": {
        "colab": {
          "base_uri": "https://localhost:8080/"
        },
        "id": "hPxv1oTwVHZe",
        "outputId": "343af26f-ec37-4e70-9e57-989b6605fd1e"
      },
      "outputs": [
        {
          "output_type": "stream",
          "name": "stdout",
          "text": [
            "root\n",
            " |-- Order_ID: string (nullable = true)\n",
            " |-- Amount: integer (nullable = true)\n",
            " |-- Profit: integer (nullable = true)\n",
            " |-- Quantity: integer (nullable = true)\n",
            " |-- Category: string (nullable = true)\n",
            " |-- Sub-Category: string (nullable = true)\n",
            " |-- PaymentMode: string (nullable = true)\n",
            "\n"
          ]
        }
      ],
      "source": [
        "spark.printSchema()"
      ]
    },
    {
      "cell_type": "code",
      "execution_count": null,
      "metadata": {
        "colab": {
          "base_uri": "https://localhost:8080/"
        },
        "id": "mBw8QIRFVHc8",
        "outputId": "2d0dd3d8-8474-45b4-fa72-8ba4c7636cc7"
      },
      "outputs": [
        {
          "output_type": "execute_result",
          "data": {
            "text/plain": [
              "Column<'Amount'>"
            ]
          },
          "metadata": {},
          "execution_count": 34
        }
      ],
      "source": [
        "spark['Amount']"
      ]
    },
    {
      "cell_type": "code",
      "execution_count": null,
      "metadata": {
        "colab": {
          "base_uri": "https://localhost:8080/"
        },
        "id": "YUdfOaEvZhXW",
        "outputId": "b4818c43-cb00-4622-95d5-46b5a9ca43d9"
      },
      "outputs": [
        {
          "output_type": "execute_result",
          "data": {
            "text/plain": [
              "[('Order_ID', 'string'),\n",
              " ('Amount', 'int'),\n",
              " ('Profit', 'int'),\n",
              " ('Quantity', 'int'),\n",
              " ('Category', 'string'),\n",
              " ('Sub-Category', 'string'),\n",
              " ('PaymentMode', 'string')]"
            ]
          },
          "metadata": {},
          "execution_count": 35
        }
      ],
      "source": [
        "spark.dtypes"
      ]
    },
    {
      "cell_type": "code",
      "execution_count": null,
      "metadata": {
        "colab": {
          "base_uri": "https://localhost:8080/"
        },
        "id": "H4BVvVxmZha1",
        "outputId": "f61d8b6d-9c88-4f7b-f3da-4d2ad6ea6c13"
      },
      "outputs": [
        {
          "output_type": "execute_result",
          "data": {
            "text/plain": [
              "[Row(Order_ID='B-25973', Amount=4141, Profit=1698, Quantity=13, Category='Electronics', Sub-Category='Printers', PaymentMode='COD'),\n",
              " Row(Order_ID='B-25698', Amount=7, Profit=-2, Quantity=1, Category='Clothing', Sub-Category='Hankerchief', PaymentMode='COD'),\n",
              " Row(Order_ID='B-25993', Amount=4363, Profit=305, Quantity=5, Category='Furniture', Sub-Category='Tables', PaymentMode='EMI')]"
            ]
          },
          "metadata": {},
          "execution_count": 36
        }
      ],
      "source": [
        "spark.tail(3)"
      ]
    },
    {
      "cell_type": "code",
      "execution_count": null,
      "metadata": {
        "colab": {
          "base_uri": "https://localhost:8080/"
        },
        "id": "CUlSk2HHZhdv",
        "outputId": "8d79fae1-80c9-4e81-b1dd-ac58786a5455"
      },
      "outputs": [
        {
          "output_type": "stream",
          "name": "stdout",
          "text": [
            "+-------+--------+------------------+-----------------+-----------------+---------+------------+-----------+\n",
            "|summary|Order_ID|            Amount|           Profit|         Quantity| Category|Sub-Category|PaymentMode|\n",
            "+-------+--------+------------------+-----------------+-----------------+---------+------------+-----------+\n",
            "|  count|    1500|              1500|             1500|             1500|     1500|        1500|       1500|\n",
            "|   mean|    NULL| 291.8473333333333|           24.642|3.743333333333333|     NULL|        NULL|       NULL|\n",
            "| stddev|    NULL|461.92462039764547|168.5588103631313|2.184941998447543|     NULL|        NULL|       NULL|\n",
            "|    min| B-25601|                 4|            -1981|                1| Clothing| Accessories|        COD|\n",
            "|    max| B-26100|              5729|             1864|               14|Furniture|    Trousers|        UPI|\n",
            "+-------+--------+------------------+-----------------+-----------------+---------+------------+-----------+\n",
            "\n"
          ]
        }
      ],
      "source": [
        "spark.describe().show()"
      ]
    },
    {
      "cell_type": "code",
      "execution_count": null,
      "metadata": {
        "colab": {
          "base_uri": "https://localhost:8080/"
        },
        "id": "7CAkou75aCqb",
        "outputId": "dcbcbef6-7cc5-423b-9e3a-d4edd583e3f2"
      },
      "outputs": [
        {
          "name": "stdout",
          "output_type": "stream",
          "text": [
            "+--------+------+------+--------+-----------+----------------+-----------+---------+\n",
            "|Order_ID|Amount|Profit|Quantity|   Category|    Sub-Category|PaymentMode|Newcolumn|\n",
            "+--------+------+------+--------+-----------+----------------+-----------+---------+\n",
            "| B-25681|  1096|   658|       7|Electronics|Electronic Games|        COD|     1101|\n",
            "| B-26055|  5729|    64|      14|  Furniture|          Chairs|        EMI|     5734|\n",
            "| B-25955|  2927|   146|       8|  Furniture|       Bookcases|        EMI|     2932|\n",
            "| B-26093|  2847|   712|       8|Electronics|        Printers|Credit Card|     2852|\n",
            "| B-25602|  2617|  1151|       4|Electronics|          Phones|Credit Card|     2622|\n",
            "| B-25881|  2244|   247|       4|   Clothing|        Trousers|Credit Card|     2249|\n",
            "| B-25696|   275|  -275|       4|   Clothing|           Saree|        COD|      280|\n",
            "| B-25687|   387|  -213|       5|   Clothing|           Saree|        UPI|      392|\n",
            "| B-25643|    50|   -44|       2|   Clothing|     Hankerchief|        UPI|       55|\n",
            "| B-25851|   135|   -54|       5|   Clothing|           Kurti|        COD|      140|\n",
            "| B-25703|   231|  -190|       9|   Clothing|     Hankerchief|        COD|      236|\n",
            "| B-25887|  2125|  -234|       6|Electronics|        Printers|        EMI|     2130|\n",
            "| B-25923|  3873|  -891|       6|Electronics|          Phones|Credit Card|     3878|\n",
            "| B-25756|   729|  -492|       5|  Furniture|       Bookcases|        UPI|      734|\n",
            "| B-25761|  2188|  1050|       5|  Furniture|       Bookcases|Credit Card|     2193|\n",
            "| B-25655|     6|    -3|       1|   Clothing|     Hankerchief|        UPI|       11|\n",
            "| B-25786|  1854|   433|       5|  Furniture|       Bookcases|Credit Card|     1859|\n",
            "| B-26095|     6|     1|       1|   Clothing|           Kurti|        UPI|       11|\n",
            "| B-25853|  2093|   721|       5|  Furniture|          Chairs|Credit Card|     2098|\n",
            "| B-25735|     7|    -1|       2|   Clothing|           Skirt|        UPI|       12|\n",
            "+--------+------+------+--------+-----------+----------------+-----------+---------+\n",
            "only showing top 20 rows\n",
            "\n"
          ]
        }
      ],
      "source": [
        "spark = spark.withColumn('Newcolumn',spark['Amount']+5)\n",
        "spark.show()"
      ]
    },
    {
      "cell_type": "code",
      "execution_count": null,
      "metadata": {
        "colab": {
          "base_uri": "https://localhost:8080/"
        },
        "id": "SjjB1dvaaCt2",
        "outputId": "150df113-8476-4a90-f4ad-f5cd407eed4e"
      },
      "outputs": [
        {
          "output_type": "stream",
          "name": "stdout",
          "text": [
            "+--------+------+------+--------+-----------+----------------+-----------+\n",
            "|Order_ID|Amount|Profit|Quantity|   Category|    Sub-Category|PaymentMode|\n",
            "+--------+------+------+--------+-----------+----------------+-----------+\n",
            "| B-25681|  1096|   658|       7|Electronics|Electronic Games|        COD|\n",
            "| B-26055|  5729|    64|      14|  Furniture|          Chairs|        EMI|\n",
            "| B-25955|  2927|   146|       8|  Furniture|       Bookcases|        EMI|\n",
            "| B-26093|  2847|   712|       8|Electronics|        Printers|Credit Card|\n",
            "| B-25602|  2617|  1151|       4|Electronics|          Phones|Credit Card|\n",
            "| B-25881|  2244|   247|       4|   Clothing|        Trousers|Credit Card|\n",
            "| B-25696|   275|  -275|       4|   Clothing|           Saree|        COD|\n",
            "| B-25687|   387|  -213|       5|   Clothing|           Saree|        UPI|\n",
            "| B-25643|    50|   -44|       2|   Clothing|     Hankerchief|        UPI|\n",
            "| B-25851|   135|   -54|       5|   Clothing|           Kurti|        COD|\n",
            "| B-25703|   231|  -190|       9|   Clothing|     Hankerchief|        COD|\n",
            "| B-25887|  2125|  -234|       6|Electronics|        Printers|        EMI|\n",
            "| B-25923|  3873|  -891|       6|Electronics|          Phones|Credit Card|\n",
            "| B-25756|   729|  -492|       5|  Furniture|       Bookcases|        UPI|\n",
            "| B-25761|  2188|  1050|       5|  Furniture|       Bookcases|Credit Card|\n",
            "| B-25655|     6|    -3|       1|   Clothing|     Hankerchief|        UPI|\n",
            "| B-25786|  1854|   433|       5|  Furniture|       Bookcases|Credit Card|\n",
            "| B-26095|     6|     1|       1|   Clothing|           Kurti|        UPI|\n",
            "| B-25853|  2093|   721|       5|  Furniture|          Chairs|Credit Card|\n",
            "| B-25735|     7|    -1|       2|   Clothing|           Skirt|        UPI|\n",
            "+--------+------+------+--------+-----------+----------------+-----------+\n",
            "only showing top 20 rows\n",
            "\n"
          ]
        }
      ],
      "source": [
        "spark = spark.drop('Newcolumn')\n",
        "spark.show()"
      ]
    },
    {
      "cell_type": "code",
      "execution_count": null,
      "metadata": {
        "colab": {
          "base_uri": "https://localhost:8080/"
        },
        "id": "dpwPUnBZaCwR",
        "outputId": "efe8b0c9-2660-4f3a-b7ef-7ab82c0a004e"
      },
      "outputs": [
        {
          "name": "stdout",
          "output_type": "stream",
          "text": [
            "+--------+------+------+--------+-----------+----------------+-----------+\n",
            "|Order_ID|Amount|Profit|Quantity|        Cat|    Sub-Category|PaymentMode|\n",
            "+--------+------+------+--------+-----------+----------------+-----------+\n",
            "| B-25681|  1096|   658|       7|Electronics|Electronic Games|        COD|\n",
            "| B-26055|  5729|    64|      14|  Furniture|          Chairs|        EMI|\n",
            "| B-25955|  2927|   146|       8|  Furniture|       Bookcases|        EMI|\n",
            "| B-26093|  2847|   712|       8|Electronics|        Printers|Credit Card|\n",
            "| B-25602|  2617|  1151|       4|Electronics|          Phones|Credit Card|\n",
            "| B-25881|  2244|   247|       4|   Clothing|        Trousers|Credit Card|\n",
            "| B-25696|   275|  -275|       4|   Clothing|           Saree|        COD|\n",
            "| B-25687|   387|  -213|       5|   Clothing|           Saree|        UPI|\n",
            "| B-25643|    50|   -44|       2|   Clothing|     Hankerchief|        UPI|\n",
            "| B-25851|   135|   -54|       5|   Clothing|           Kurti|        COD|\n",
            "| B-25703|   231|  -190|       9|   Clothing|     Hankerchief|        COD|\n",
            "| B-25887|  2125|  -234|       6|Electronics|        Printers|        EMI|\n",
            "| B-25923|  3873|  -891|       6|Electronics|          Phones|Credit Card|\n",
            "| B-25756|   729|  -492|       5|  Furniture|       Bookcases|        UPI|\n",
            "| B-25761|  2188|  1050|       5|  Furniture|       Bookcases|Credit Card|\n",
            "| B-25655|     6|    -3|       1|   Clothing|     Hankerchief|        UPI|\n",
            "| B-25786|  1854|   433|       5|  Furniture|       Bookcases|Credit Card|\n",
            "| B-26095|     6|     1|       1|   Clothing|           Kurti|        UPI|\n",
            "| B-25853|  2093|   721|       5|  Furniture|          Chairs|Credit Card|\n",
            "| B-25735|     7|    -1|       2|   Clothing|           Skirt|        UPI|\n",
            "+--------+------+------+--------+-----------+----------------+-----------+\n",
            "only showing top 20 rows\n",
            "\n"
          ]
        }
      ],
      "source": [
        "spark.withColumnRenamed('Category','Cat').show()"
      ]
    },
    {
      "cell_type": "code",
      "execution_count": null,
      "metadata": {
        "colab": {
          "base_uri": "https://localhost:8080/"
        },
        "id": "FWWOzDiuZhgX",
        "outputId": "3f250441-60ef-48d1-be64-a4c6d39d6217"
      },
      "outputs": [
        {
          "name": "stdout",
          "output_type": "stream",
          "text": [
            "+--------+------+------+--------+-----------+----------------+-----------+\n",
            "|Order_ID|Amount|Profit|Quantity|   Category|    Sub-Category|PaymentMode|\n",
            "+--------+------+------+--------+-----------+----------------+-----------+\n",
            "| B-25681|  1096|   658|       7|Electronics|Electronic Games|        COD|\n",
            "| B-26055|  5729|    64|      14|  Furniture|          Chairs|        EMI|\n",
            "| B-25955|  2927|   146|       8|  Furniture|       Bookcases|        EMI|\n",
            "| B-26093|  2847|   712|       8|Electronics|        Printers|Credit Card|\n",
            "| B-25602|  2617|  1151|       4|Electronics|          Phones|Credit Card|\n",
            "| B-25881|  2244|   247|       4|   Clothing|        Trousers|Credit Card|\n",
            "| B-25696|   275|  -275|       4|   Clothing|           Saree|        COD|\n",
            "| B-25687|   387|  -213|       5|   Clothing|           Saree|        UPI|\n",
            "| B-25643|    50|   -44|       2|   Clothing|     Hankerchief|        UPI|\n",
            "| B-25851|   135|   -54|       5|   Clothing|           Kurti|        COD|\n",
            "| B-25703|   231|  -190|       9|   Clothing|     Hankerchief|        COD|\n",
            "| B-25887|  2125|  -234|       6|Electronics|        Printers|        EMI|\n",
            "| B-25923|  3873|  -891|       6|Electronics|          Phones|Credit Card|\n",
            "| B-25756|   729|  -492|       5|  Furniture|       Bookcases|        UPI|\n",
            "| B-25761|  2188|  1050|       5|  Furniture|       Bookcases|Credit Card|\n",
            "| B-25655|     6|    -3|       1|   Clothing|     Hankerchief|        UPI|\n",
            "| B-25786|  1854|   433|       5|  Furniture|       Bookcases|Credit Card|\n",
            "| B-26095|     6|     1|       1|   Clothing|           Kurti|        UPI|\n",
            "| B-25853|  2093|   721|       5|  Furniture|          Chairs|Credit Card|\n",
            "| B-25735|     7|    -1|       2|   Clothing|           Skirt|        UPI|\n",
            "+--------+------+------+--------+-----------+----------------+-----------+\n",
            "only showing top 20 rows\n",
            "\n"
          ]
        }
      ],
      "source": [
        "spark.show()"
      ]
    },
    {
      "cell_type": "code",
      "execution_count": null,
      "metadata": {
        "colab": {
          "base_uri": "https://localhost:8080/"
        },
        "id": "_zTm2gMibFRv",
        "outputId": "ada685c0-8214-41f1-f0bc-19f666f8548b"
      },
      "outputs": [
        {
          "name": "stdout",
          "output_type": "stream",
          "text": [
            "+--------+------+------+--------+-----------+----------------+-----------+\n",
            "|Order_ID|Amount|Profit|Quantity|   Category|    Sub-Category|PaymentMode|\n",
            "+--------+------+------+--------+-----------+----------------+-----------+\n",
            "| B-25681|  1096|   658|       7|Electronics|Electronic Games|        COD|\n",
            "| B-26055|  5729|    64|      14|  Furniture|          Chairs|        EMI|\n",
            "| B-25955|  2927|   146|       8|  Furniture|       Bookcases|        EMI|\n",
            "| B-26093|  2847|   712|       8|Electronics|        Printers|Credit Card|\n",
            "| B-25602|  2617|  1151|       4|Electronics|          Phones|Credit Card|\n",
            "| B-25881|  2244|   247|       4|   Clothing|        Trousers|Credit Card|\n",
            "| B-25696|   275|  -275|       4|   Clothing|           Saree|        COD|\n",
            "| B-25687|   387|  -213|       5|   Clothing|           Saree|        UPI|\n",
            "| B-25643|    50|   -44|       2|   Clothing|     Hankerchief|        UPI|\n",
            "| B-25851|   135|   -54|       5|   Clothing|           Kurti|        COD|\n",
            "| B-25703|   231|  -190|       9|   Clothing|     Hankerchief|        COD|\n",
            "| B-25887|  2125|  -234|       6|Electronics|        Printers|        EMI|\n",
            "| B-25923|  3873|  -891|       6|Electronics|          Phones|Credit Card|\n",
            "| B-25756|   729|  -492|       5|  Furniture|       Bookcases|        UPI|\n",
            "| B-25761|  2188|  1050|       5|  Furniture|       Bookcases|Credit Card|\n",
            "| B-25655|     6|    -3|       1|   Clothing|     Hankerchief|        UPI|\n",
            "| B-25786|  1854|   433|       5|  Furniture|       Bookcases|Credit Card|\n",
            "| B-26095|     6|     1|       1|   Clothing|           Kurti|        UPI|\n",
            "| B-25853|  2093|   721|       5|  Furniture|          Chairs|Credit Card|\n",
            "| B-25735|     7|    -1|       2|   Clothing|           Skirt|        UPI|\n",
            "+--------+------+------+--------+-----------+----------------+-----------+\n",
            "only showing top 20 rows\n",
            "\n"
          ]
        }
      ],
      "source": [
        "spark.na.drop().show()"
      ]
    },
    {
      "cell_type": "code",
      "execution_count": null,
      "metadata": {
        "colab": {
          "base_uri": "https://localhost:8080/"
        },
        "id": "wcId5hjJbFU4",
        "outputId": "7d49cc05-fde0-46a8-901b-20296dbe9659"
      },
      "outputs": [
        {
          "name": "stdout",
          "output_type": "stream",
          "text": [
            "+--------+------+------+--------+-----------+----------------+-----------+\n",
            "|Order_ID|Amount|Profit|Quantity|   Category|    Sub-Category|PaymentMode|\n",
            "+--------+------+------+--------+-----------+----------------+-----------+\n",
            "| B-25681|  1096|   658|       7|Electronics|Electronic Games|        COD|\n",
            "| B-26055|  5729|    64|      14|  Furniture|          Chairs|        EMI|\n",
            "| B-25955|  2927|   146|       8|  Furniture|       Bookcases|        EMI|\n",
            "| B-26093|  2847|   712|       8|Electronics|        Printers|Credit Card|\n",
            "| B-25602|  2617|  1151|       4|Electronics|          Phones|Credit Card|\n",
            "| B-25881|  2244|   247|       4|   Clothing|        Trousers|Credit Card|\n",
            "| B-25696|   275|  -275|       4|   Clothing|           Saree|        COD|\n",
            "| B-25687|   387|  -213|       5|   Clothing|           Saree|        UPI|\n",
            "| B-25643|    50|   -44|       2|   Clothing|     Hankerchief|        UPI|\n",
            "| B-25851|   135|   -54|       5|   Clothing|           Kurti|        COD|\n",
            "| B-25703|   231|  -190|       9|   Clothing|     Hankerchief|        COD|\n",
            "| B-25887|  2125|  -234|       6|Electronics|        Printers|        EMI|\n",
            "| B-25923|  3873|  -891|       6|Electronics|          Phones|Credit Card|\n",
            "| B-25756|   729|  -492|       5|  Furniture|       Bookcases|        UPI|\n",
            "| B-25761|  2188|  1050|       5|  Furniture|       Bookcases|Credit Card|\n",
            "| B-25655|     6|    -3|       1|   Clothing|     Hankerchief|        UPI|\n",
            "| B-25786|  1854|   433|       5|  Furniture|       Bookcases|Credit Card|\n",
            "| B-26095|     6|     1|       1|   Clothing|           Kurti|        UPI|\n",
            "| B-25853|  2093|   721|       5|  Furniture|          Chairs|Credit Card|\n",
            "| B-25735|     7|    -1|       2|   Clothing|           Skirt|        UPI|\n",
            "+--------+------+------+--------+-----------+----------------+-----------+\n",
            "only showing top 20 rows\n",
            "\n"
          ]
        }
      ],
      "source": [
        "spark.na.drop(how = 'all').show()"
      ]
    },
    {
      "cell_type": "code",
      "execution_count": null,
      "metadata": {
        "colab": {
          "base_uri": "https://localhost:8080/"
        },
        "id": "H9gvTsU7bFXq",
        "outputId": "bd09ca26-6136-4e95-d71f-d81e094f9d54"
      },
      "outputs": [
        {
          "name": "stdout",
          "output_type": "stream",
          "text": [
            "+--------+------+------+--------+-----------+----------------+-----------+\n",
            "|Order_ID|Amount|Profit|Quantity|   Category|    Sub-Category|PaymentMode|\n",
            "+--------+------+------+--------+-----------+----------------+-----------+\n",
            "| B-25681|  1096|   658|       7|Electronics|Electronic Games|        COD|\n",
            "| B-26055|  5729|    64|      14|  Furniture|          Chairs|        EMI|\n",
            "| B-25955|  2927|   146|       8|  Furniture|       Bookcases|        EMI|\n",
            "| B-26093|  2847|   712|       8|Electronics|        Printers|Credit Card|\n",
            "| B-25602|  2617|  1151|       4|Electronics|          Phones|Credit Card|\n",
            "| B-25881|  2244|   247|       4|   Clothing|        Trousers|Credit Card|\n",
            "| B-25696|   275|  -275|       4|   Clothing|           Saree|        COD|\n",
            "| B-25687|   387|  -213|       5|   Clothing|           Saree|        UPI|\n",
            "| B-25643|    50|   -44|       2|   Clothing|     Hankerchief|        UPI|\n",
            "| B-25851|   135|   -54|       5|   Clothing|           Kurti|        COD|\n",
            "| B-25703|   231|  -190|       9|   Clothing|     Hankerchief|        COD|\n",
            "| B-25887|  2125|  -234|       6|Electronics|        Printers|        EMI|\n",
            "| B-25923|  3873|  -891|       6|Electronics|          Phones|Credit Card|\n",
            "| B-25756|   729|  -492|       5|  Furniture|       Bookcases|        UPI|\n",
            "| B-25761|  2188|  1050|       5|  Furniture|       Bookcases|Credit Card|\n",
            "| B-25655|     6|    -3|       1|   Clothing|     Hankerchief|        UPI|\n",
            "| B-25786|  1854|   433|       5|  Furniture|       Bookcases|Credit Card|\n",
            "| B-26095|     6|     1|       1|   Clothing|           Kurti|        UPI|\n",
            "| B-25853|  2093|   721|       5|  Furniture|          Chairs|Credit Card|\n",
            "| B-25735|     7|    -1|       2|   Clothing|           Skirt|        UPI|\n",
            "+--------+------+------+--------+-----------+----------------+-----------+\n",
            "only showing top 20 rows\n",
            "\n"
          ]
        }
      ],
      "source": [
        "spark.na.drop(how = 'any',subset = ['Amount','Category','Order_ID']).show()"
      ]
    },
    {
      "cell_type": "code",
      "execution_count": null,
      "metadata": {
        "colab": {
          "base_uri": "https://localhost:8080/"
        },
        "id": "yy0GmDuvbFcz",
        "outputId": "43b745bc-93d5-4d61-88ad-509920607062"
      },
      "outputs": [
        {
          "name": "stdout",
          "output_type": "stream",
          "text": [
            "+--------+------+------+--------+-----------+----------------+-----------+\n",
            "|Order_ID|Amount|Profit|Quantity|   Category|    Sub-Category|PaymentMode|\n",
            "+--------+------+------+--------+-----------+----------------+-----------+\n",
            "| B-25681|  1096|   658|       7|Electronics|Electronic Games|        COD|\n",
            "| B-26055|  5729|    64|      14|  Furniture|          Chairs|        EMI|\n",
            "| B-25955|  2927|   146|       8|  Furniture|       Bookcases|        EMI|\n",
            "| B-26093|  2847|   712|       8|Electronics|        Printers|Credit Card|\n",
            "| B-25602|  2617|  1151|       4|Electronics|          Phones|Credit Card|\n",
            "| B-25881|  2244|   247|       4|   Clothing|        Trousers|Credit Card|\n",
            "| B-25696|   275|  -275|       4|   Clothing|           Saree|        COD|\n",
            "| B-25687|   387|  -213|       5|   Clothing|           Saree|        UPI|\n",
            "| B-25643|    50|   -44|       2|   Clothing|     Hankerchief|        UPI|\n",
            "| B-25851|   135|   -54|       5|   Clothing|           Kurti|        COD|\n",
            "| B-25703|   231|  -190|       9|   Clothing|     Hankerchief|        COD|\n",
            "| B-25887|  2125|  -234|       6|Electronics|        Printers|        EMI|\n",
            "| B-25923|  3873|  -891|       6|Electronics|          Phones|Credit Card|\n",
            "| B-25756|   729|  -492|       5|  Furniture|       Bookcases|        UPI|\n",
            "| B-25761|  2188|  1050|       5|  Furniture|       Bookcases|Credit Card|\n",
            "| B-25655|     6|    -3|       1|   Clothing|     Hankerchief|        UPI|\n",
            "| B-25786|  1854|   433|       5|  Furniture|       Bookcases|Credit Card|\n",
            "| B-26095|     6|     1|       1|   Clothing|           Kurti|        UPI|\n",
            "| B-25853|  2093|   721|       5|  Furniture|          Chairs|Credit Card|\n",
            "| B-25735|     7|    -1|       2|   Clothing|           Skirt|        UPI|\n",
            "+--------+------+------+--------+-----------+----------------+-----------+\n",
            "only showing top 20 rows\n",
            "\n"
          ]
        }
      ],
      "source": [
        "spark.na.fill('missing values').show()"
      ]
    },
    {
      "cell_type": "code",
      "execution_count": null,
      "metadata": {
        "colab": {
          "base_uri": "https://localhost:8080/"
        },
        "id": "tAlL3L8zbFf5",
        "outputId": "5ad649e1-8ff1-4b89-a417-d461c321cf57"
      },
      "outputs": [
        {
          "name": "stdout",
          "output_type": "stream",
          "text": [
            "+--------+------+------+--------+-----------+----------------+-----------+\n",
            "|Order_ID|Amount|Profit|Quantity|   Category|    Sub-Category|PaymentMode|\n",
            "+--------+------+------+--------+-----------+----------------+-----------+\n",
            "| B-25681|  1096|   658|       7|Electronics|Electronic Games|        COD|\n",
            "| B-26055|  5729|    64|      14|  Furniture|          Chairs|        EMI|\n",
            "| B-25955|  2927|   146|       8|  Furniture|       Bookcases|        EMI|\n",
            "| B-26093|  2847|   712|       8|Electronics|        Printers|Credit Card|\n",
            "| B-25602|  2617|  1151|       4|Electronics|          Phones|Credit Card|\n",
            "| B-25881|  2244|   247|       4|   Clothing|        Trousers|Credit Card|\n",
            "| B-25696|   275|  -275|       4|   Clothing|           Saree|        COD|\n",
            "| B-25687|   387|  -213|       5|   Clothing|           Saree|        UPI|\n",
            "| B-25643|    50|   -44|       2|   Clothing|     Hankerchief|        UPI|\n",
            "| B-25851|   135|   -54|       5|   Clothing|           Kurti|        COD|\n",
            "| B-25703|   231|  -190|       9|   Clothing|     Hankerchief|        COD|\n",
            "| B-25887|  2125|  -234|       6|Electronics|        Printers|        EMI|\n",
            "| B-25923|  3873|  -891|       6|Electronics|          Phones|Credit Card|\n",
            "| B-25756|   729|  -492|       5|  Furniture|       Bookcases|        UPI|\n",
            "| B-25761|  2188|  1050|       5|  Furniture|       Bookcases|Credit Card|\n",
            "| B-25655|     6|    -3|       1|   Clothing|     Hankerchief|        UPI|\n",
            "| B-25786|  1854|   433|       5|  Furniture|       Bookcases|Credit Card|\n",
            "| B-26095|     6|     1|       1|   Clothing|           Kurti|        UPI|\n",
            "| B-25853|  2093|   721|       5|  Furniture|          Chairs|Credit Card|\n",
            "| B-25735|     7|    -1|       2|   Clothing|           Skirt|        UPI|\n",
            "+--------+------+------+--------+-----------+----------------+-----------+\n",
            "only showing top 20 rows\n",
            "\n"
          ]
        }
      ],
      "source": [
        "spark.na.fill(0,subset = ['Amount','Order_ID','Category']).show()"
      ]
    },
    {
      "cell_type": "code",
      "execution_count": null,
      "metadata": {
        "colab": {
          "base_uri": "https://localhost:8080/"
        },
        "id": "RapnmmuJZhjN",
        "outputId": "797b8382-4809-485a-ec85-cdcf10064bd8"
      },
      "outputs": [
        {
          "name": "stdout",
          "output_type": "stream",
          "text": [
            "+------+-----------+\n",
            "|Amount|   Category|\n",
            "+------+-----------+\n",
            "|  1096|Electronics|\n",
            "|  5729|  Furniture|\n",
            "|  2927|  Furniture|\n",
            "|  2847|Electronics|\n",
            "|  2617|Electronics|\n",
            "|  2244|   Clothing|\n",
            "|   275|   Clothing|\n",
            "|   387|   Clothing|\n",
            "|    50|   Clothing|\n",
            "|   135|   Clothing|\n",
            "|   231|   Clothing|\n",
            "|  2125|Electronics|\n",
            "|  3873|Electronics|\n",
            "|   729|  Furniture|\n",
            "|  2188|  Furniture|\n",
            "|     6|   Clothing|\n",
            "|  1854|  Furniture|\n",
            "|     6|   Clothing|\n",
            "|  2093|  Furniture|\n",
            "|     7|   Clothing|\n",
            "+------+-----------+\n",
            "only showing top 20 rows\n",
            "\n"
          ]
        }
      ],
      "source": [
        "spark.select('Amount','Category').show()"
      ]
    },
    {
      "cell_type": "code",
      "execution_count": null,
      "metadata": {
        "colab": {
          "base_uri": "https://localhost:8080/",
          "height": 110
        },
        "id": "v8lUero2e_SM",
        "outputId": "4d0793e7-21c9-4b51-8eb2-32b022dba668"
      },
      "outputs": [
        {
          "output_type": "error",
          "ename": "SyntaxError",
          "evalue": "invalid syntax (<ipython-input-42-ebce50a60b21>, line 3)",
          "traceback": [
            "\u001b[0;36m  File \u001b[0;32m\"<ipython-input-42-ebce50a60b21>\"\u001b[0;36m, line \u001b[0;32m3\u001b[0m\n\u001b[0;31m    imp = Imputer(inputCol = ['Amount','Profit','Quantity'],outputCol = [for c in ['Amount','Profit','Quantity']]\u001b[0m\n\u001b[0m                                                                         ^\u001b[0m\n\u001b[0;31mSyntaxError\u001b[0m\u001b[0;31m:\u001b[0m invalid syntax\n"
          ]
        }
      ],
      "source": [
        "from pyspark.ml.feature import Imputer\n",
        "\n",
        "imp = Imputer(inputCol = ['Amount','Profit','Quantity'],outputCol = [for c in ['Amount','Profit','Quantity']]\n",
        "              ).setStrategy('Mean')"
      ]
    },
    {
      "cell_type": "code",
      "execution_count": null,
      "metadata": {
        "id": "eKUljonVe_Vn"
      },
      "outputs": [],
      "source": []
    },
    {
      "cell_type": "code",
      "execution_count": null,
      "metadata": {
        "colab": {
          "base_uri": "https://localhost:8080/"
        },
        "id": "4Xtq_oeCe_Yn",
        "outputId": "5b68516e-a37d-494e-9dc3-5989aa6de935"
      },
      "outputs": [
        {
          "name": "stdout",
          "output_type": "stream",
          "text": [
            "+--------+------+------+--------+-----------+------------+-----------+\n",
            "|Order_ID|Amount|Profit|Quantity|   Category|Sub-Category|PaymentMode|\n",
            "+--------+------+------+--------+-----------+------------+-----------+\n",
            "| B-26055|  5729|    64|      14|  Furniture|      Chairs|        EMI|\n",
            "| B-25973|  4141|  1698|      13|Electronics|    Printers|        COD|\n",
            "| B-25993|  4363|   305|       5|  Furniture|      Tables|        EMI|\n",
            "+--------+------+------+--------+-----------+------------+-----------+\n",
            "\n"
          ]
        }
      ],
      "source": [
        "spark.filter('Amount > 4000').show()"
      ]
    },
    {
      "cell_type": "code",
      "execution_count": null,
      "metadata": {
        "colab": {
          "base_uri": "https://localhost:8080/"
        },
        "id": "HReV1DqWe_bY",
        "outputId": "0ee05833-3ded-456a-f315-53f00b51e889"
      },
      "outputs": [
        {
          "name": "stdout",
          "output_type": "stream",
          "text": [
            "+--------+------+------+--------+---------+------------+-----------+\n",
            "|Order_ID|Amount|Profit|Quantity| Category|Sub-Category|PaymentMode|\n",
            "+--------+------+------+--------+---------+------------+-----------+\n",
            "| B-26055|  5729|    64|      14|Furniture|      Chairs|        EMI|\n",
            "+--------+------+------+--------+---------+------------+-----------+\n",
            "\n"
          ]
        }
      ],
      "source": [
        "spark.filter(spark['Amount'] > 4500).show()"
      ]
    },
    {
      "cell_type": "code",
      "execution_count": null,
      "metadata": {
        "colab": {
          "base_uri": "https://localhost:8080/"
        },
        "id": "g_Q8m0QPe_eT",
        "outputId": "8818c3f8-ca85-4e74-a9f0-c1ba36ac087c"
      },
      "outputs": [
        {
          "name": "stdout",
          "output_type": "stream",
          "text": [
            "+--------+------+------+--------+---------+------------+-----------+\n",
            "|Order_ID|Amount|Profit|Quantity| Category|Sub-Category|PaymentMode|\n",
            "+--------+------+------+--------+---------+------------+-----------+\n",
            "| B-26055|  5729|    64|      14|Furniture|      Chairs|        EMI|\n",
            "| B-25955|  2927|   146|       8|Furniture|   Bookcases|        EMI|\n",
            "| B-25756|   729|  -492|       5|Furniture|   Bookcases|        UPI|\n",
            "| B-25761|  2188|  1050|       5|Furniture|   Bookcases|Credit Card|\n",
            "| B-25786|  1854|   433|       5|Furniture|   Bookcases|Credit Card|\n",
            "| B-25853|  2093|   721|       5|Furniture|      Chairs|Credit Card|\n",
            "| B-25910|  1622|  -624|       5|Furniture|      Tables|Credit Card|\n",
            "| B-25686|  1829|   -56|       6|Furniture|      Tables|Credit Card|\n",
            "| B-26048|  1461|   202|       5|Furniture|      Tables|        EMI|\n",
            "| B-26003|  1745|   122|       2|Furniture|      Tables|Credit Card|\n",
            "| B-25797|  1630|   802|       5|Furniture|      Tables|        EMI|\n",
            "| B-25779|  1361|   980|       3|Furniture|      Tables|        COD|\n",
            "| B-25935|  1657|   460|       4|Furniture|      Chairs|Credit Card|\n",
            "| B-25868|  1118|   206|       2|Furniture|      Tables|Credit Card|\n",
            "| B-25608|  1364|  1864|       5|Furniture|      Tables|Credit Card|\n",
            "| B-25995|  1314|   342|       3|Furniture|   Bookcases|Credit Card|\n",
            "| B-25929|  1308|   536|       3|Furniture|   Bookcases|Credit Card|\n",
            "| B-25852|   869|    67|       4|Furniture|      Tables|        COD|\n",
            "| B-25898|   857|  -274|       2|Furniture|      Tables|        COD|\n",
            "| B-26100|   828|   230|       2|Furniture|      Chairs|        COD|\n",
            "+--------+------+------+--------+---------+------------+-----------+\n",
            "only showing top 20 rows\n",
            "\n"
          ]
        }
      ],
      "source": [
        "spark.filter(spark['Category'] == 'Furniture').show()"
      ]
    },
    {
      "cell_type": "code",
      "execution_count": null,
      "metadata": {
        "colab": {
          "base_uri": "https://localhost:8080/"
        },
        "id": "0IvY0qRKe_hW",
        "outputId": "6c889621-0f44-4dbf-e1f5-bcbae7ddd510"
      },
      "outputs": [
        {
          "name": "stdout",
          "output_type": "stream",
          "text": [
            "+--------+------+------+--------+-----------+------------+-----------+\n",
            "|Order_ID|Amount|Profit|Quantity|   Category|Sub-Category|PaymentMode|\n",
            "+--------+------+------+--------+-----------+------------+-----------+\n",
            "| B-25973|  4141|  1698|      13|Electronics|    Printers|        COD|\n",
            "+--------+------+------+--------+-----------+------------+-----------+\n",
            "\n"
          ]
        }
      ],
      "source": [
        "spark.filter((spark['Amount'] > 3000) & (spark['Profit'] > 750)).show()"
      ]
    },
    {
      "cell_type": "code",
      "execution_count": null,
      "metadata": {
        "colab": {
          "base_uri": "https://localhost:8080/"
        },
        "id": "_zt2MEm5e_kM",
        "outputId": "3f697979-692d-4eab-fb4b-adef9be594be"
      },
      "outputs": [
        {
          "name": "stdout",
          "output_type": "stream",
          "text": [
            "+--------+------+------+--------+-----------+------------+-----------+\n",
            "|Order_ID|Amount|Profit|Quantity|   Category|Sub-Category|PaymentMode|\n",
            "+--------+------+------+--------+-----------+------------+-----------+\n",
            "| B-26055|  5729|    64|      14|  Furniture|      Chairs|        EMI|\n",
            "| B-25955|  2927|   146|       8|  Furniture|   Bookcases|        EMI|\n",
            "| B-25923|  3873|  -891|       6|Electronics|      Phones|Credit Card|\n",
            "| B-25756|   729|  -492|       5|  Furniture|   Bookcases|        UPI|\n",
            "| B-25761|  2188|  1050|       5|  Furniture|   Bookcases|Credit Card|\n",
            "| B-25786|  1854|   433|       5|  Furniture|   Bookcases|Credit Card|\n",
            "| B-25853|  2093|   721|       5|  Furniture|      Chairs|Credit Card|\n",
            "| B-25910|  1622|  -624|       5|  Furniture|      Tables|Credit Card|\n",
            "| B-25686|  1829|   -56|       6|  Furniture|      Tables|Credit Card|\n",
            "| B-26048|  1461|   202|       5|  Furniture|      Tables|        EMI|\n",
            "| B-26003|  1745|   122|       2|  Furniture|      Tables|Credit Card|\n",
            "| B-25797|  1630|   802|       5|  Furniture|      Tables|        EMI|\n",
            "| B-25779|  1361|   980|       3|  Furniture|      Tables|        COD|\n",
            "| B-25935|  1657|   460|       4|  Furniture|      Chairs|Credit Card|\n",
            "| B-25868|  1118|   206|       2|  Furniture|      Tables|Credit Card|\n",
            "| B-25608|  1364|  1864|       5|  Furniture|      Tables|Credit Card|\n",
            "| B-25995|  1314|   342|       3|  Furniture|   Bookcases|Credit Card|\n",
            "| B-25929|  1308|   536|       3|  Furniture|   Bookcases|Credit Card|\n",
            "| B-25852|   869|    67|       4|  Furniture|      Tables|        COD|\n",
            "| B-25898|   857|  -274|       2|  Furniture|      Tables|        COD|\n",
            "+--------+------+------+--------+-----------+------------+-----------+\n",
            "only showing top 20 rows\n",
            "\n"
          ]
        }
      ],
      "source": [
        "spark.filter((spark['Category'] == 'Furniture') | (spark['Amount'] > 3000)).show()"
      ]
    },
    {
      "cell_type": "code",
      "execution_count": null,
      "metadata": {
        "colab": {
          "base_uri": "https://localhost:8080/"
        },
        "id": "FMF1eOOciFts",
        "outputId": "2decd97e-2e4f-4d7f-e487-5595b2a0fc8e"
      },
      "outputs": [
        {
          "name": "stdout",
          "output_type": "stream",
          "text": [
            "+--------+------+------+--------+-----------+------------+-----------+\n",
            "|Order_ID|Amount|Profit|Quantity|   Category|Sub-Category|PaymentMode|\n",
            "+--------+------+------+--------+-----------+------------+-----------+\n",
            "| B-26055|  5729|    64|      14|  Furniture|      Chairs|        EMI|\n",
            "| B-25640|  1499|   239|      13|   Clothing|       Saree|Credit Card|\n",
            "| B-26019|   585|   175|      13|   Clothing|     T-shirt|        COD|\n",
            "| B-26055|   213|     4|      14|   Clothing|       Shirt|        COD|\n",
            "| B-25798|  2830| -1981|      13|  Furniture|   Bookcases|        EMI|\n",
            "| B-25973|  4141|  1698|      13|Electronics|    Printers|        COD|\n",
            "+--------+------+------+--------+-----------+------------+-----------+\n",
            "\n"
          ]
        }
      ],
      "source": [
        "spark.filter(~(spark['Quantity'] < 13)).show()"
      ]
    },
    {
      "cell_type": "code",
      "execution_count": null,
      "metadata": {
        "colab": {
          "base_uri": "https://localhost:8080/"
        },
        "id": "y7WkX6tDiFw4",
        "outputId": "4abdf91f-2c80-4096-aef2-d7ad77ef62f9"
      },
      "outputs": [
        {
          "name": "stdout",
          "output_type": "stream",
          "text": [
            "+-----------+-----------+\n",
            "|   Category|sum(Amount)|\n",
            "+-----------+-----------+\n",
            "|Electronics|     166267|\n",
            "|   Clothing|     144323|\n",
            "|  Furniture|     127181|\n",
            "+-----------+-----------+\n",
            "\n"
          ]
        }
      ],
      "source": [
        "spark.groupby('Category').sum('Amount').show()"
      ]
    },
    {
      "cell_type": "code",
      "execution_count": null,
      "metadata": {
        "colab": {
          "background_save": true
        },
        "id": "nu1_vzcIiFzw",
        "outputId": "f7f074d9-25e7-4960-cde1-8cda4edf74ed"
      },
      "outputs": [
        {
          "name": "stdout",
          "output_type": "stream",
          "text": [
            "+-------------+\n",
            "|count(Amount)|\n",
            "+-------------+\n",
            "|         1500|\n",
            "+-------------+\n",
            "\n"
          ]
        }
      ],
      "source": [
        "spark.agg({'Amount':'count'}).show()"
      ]
    },
    {
      "cell_type": "code",
      "execution_count": null,
      "metadata": {
        "id": "1xf4pHIFiF2i"
      },
      "outputs": [],
      "source": [
        "# Note: To reflect the changes to a dataframe, assign it to a dataframe (equivalent to inplace in Pandas)"
      ]
    },
    {
      "cell_type": "code",
      "execution_count": null,
      "metadata": {
        "id": "2suP0XqAe_m-"
      },
      "outputs": [],
      "source": []
    }
  ],
  "metadata": {
    "colab": {
      "provenance": []
    },
    "kernelspec": {
      "display_name": "Python 3",
      "name": "python3"
    },
    "language_info": {
      "name": "python"
    }
  },
  "nbformat": 4,
  "nbformat_minor": 0
}