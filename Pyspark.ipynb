{
  "nbformat": 4,
  "nbformat_minor": 0,
  "metadata": {
    "colab": {
      "provenance": []
    },
    "kernelspec": {
      "name": "python3",
      "display_name": "Python 3"
    },
    "language_info": {
      "name": "python"
    }
  },
  "cells": [
    {
      "cell_type": "code",
      "execution_count": null,
      "metadata": {
        "colab": {
          "base_uri": "https://localhost:8080/",
          "height": 73
        },
        "id": "oSxAZbALA6K5",
        "outputId": "9598fe93-bbaa-4b5e-a275-1ac3f74f2076"
      },
      "outputs": [
        {
          "output_type": "display_data",
          "data": {
            "text/plain": [
              "<IPython.core.display.HTML object>"
            ],
            "text/html": [
              "\n",
              "     <input type=\"file\" id=\"files-a1283294-d866-4de9-9be1-828196b2a8e0\" name=\"files[]\" multiple disabled\n",
              "        style=\"border:none\" />\n",
              "     <output id=\"result-a1283294-d866-4de9-9be1-828196b2a8e0\">\n",
              "      Upload widget is only available when the cell has been executed in the\n",
              "      current browser session. Please rerun this cell to enable.\n",
              "      </output>\n",
              "      <script>// Copyright 2017 Google LLC\n",
              "//\n",
              "// Licensed under the Apache License, Version 2.0 (the \"License\");\n",
              "// you may not use this file except in compliance with the License.\n",
              "// You may obtain a copy of the License at\n",
              "//\n",
              "//      http://www.apache.org/licenses/LICENSE-2.0\n",
              "//\n",
              "// Unless required by applicable law or agreed to in writing, software\n",
              "// distributed under the License is distributed on an \"AS IS\" BASIS,\n",
              "// WITHOUT WARRANTIES OR CONDITIONS OF ANY KIND, either express or implied.\n",
              "// See the License for the specific language governing permissions and\n",
              "// limitations under the License.\n",
              "\n",
              "/**\n",
              " * @fileoverview Helpers for google.colab Python module.\n",
              " */\n",
              "(function(scope) {\n",
              "function span(text, styleAttributes = {}) {\n",
              "  const element = document.createElement('span');\n",
              "  element.textContent = text;\n",
              "  for (const key of Object.keys(styleAttributes)) {\n",
              "    element.style[key] = styleAttributes[key];\n",
              "  }\n",
              "  return element;\n",
              "}\n",
              "\n",
              "// Max number of bytes which will be uploaded at a time.\n",
              "const MAX_PAYLOAD_SIZE = 100 * 1024;\n",
              "\n",
              "function _uploadFiles(inputId, outputId) {\n",
              "  const steps = uploadFilesStep(inputId, outputId);\n",
              "  const outputElement = document.getElementById(outputId);\n",
              "  // Cache steps on the outputElement to make it available for the next call\n",
              "  // to uploadFilesContinue from Python.\n",
              "  outputElement.steps = steps;\n",
              "\n",
              "  return _uploadFilesContinue(outputId);\n",
              "}\n",
              "\n",
              "// This is roughly an async generator (not supported in the browser yet),\n",
              "// where there are multiple asynchronous steps and the Python side is going\n",
              "// to poll for completion of each step.\n",
              "// This uses a Promise to block the python side on completion of each step,\n",
              "// then passes the result of the previous step as the input to the next step.\n",
              "function _uploadFilesContinue(outputId) {\n",
              "  const outputElement = document.getElementById(outputId);\n",
              "  const steps = outputElement.steps;\n",
              "\n",
              "  const next = steps.next(outputElement.lastPromiseValue);\n",
              "  return Promise.resolve(next.value.promise).then((value) => {\n",
              "    // Cache the last promise value to make it available to the next\n",
              "    // step of the generator.\n",
              "    outputElement.lastPromiseValue = value;\n",
              "    return next.value.response;\n",
              "  });\n",
              "}\n",
              "\n",
              "/**\n",
              " * Generator function which is called between each async step of the upload\n",
              " * process.\n",
              " * @param {string} inputId Element ID of the input file picker element.\n",
              " * @param {string} outputId Element ID of the output display.\n",
              " * @return {!Iterable<!Object>} Iterable of next steps.\n",
              " */\n",
              "function* uploadFilesStep(inputId, outputId) {\n",
              "  const inputElement = document.getElementById(inputId);\n",
              "  inputElement.disabled = false;\n",
              "\n",
              "  const outputElement = document.getElementById(outputId);\n",
              "  outputElement.innerHTML = '';\n",
              "\n",
              "  const pickedPromise = new Promise((resolve) => {\n",
              "    inputElement.addEventListener('change', (e) => {\n",
              "      resolve(e.target.files);\n",
              "    });\n",
              "  });\n",
              "\n",
              "  const cancel = document.createElement('button');\n",
              "  inputElement.parentElement.appendChild(cancel);\n",
              "  cancel.textContent = 'Cancel upload';\n",
              "  const cancelPromise = new Promise((resolve) => {\n",
              "    cancel.onclick = () => {\n",
              "      resolve(null);\n",
              "    };\n",
              "  });\n",
              "\n",
              "  // Wait for the user to pick the files.\n",
              "  const files = yield {\n",
              "    promise: Promise.race([pickedPromise, cancelPromise]),\n",
              "    response: {\n",
              "      action: 'starting',\n",
              "    }\n",
              "  };\n",
              "\n",
              "  cancel.remove();\n",
              "\n",
              "  // Disable the input element since further picks are not allowed.\n",
              "  inputElement.disabled = true;\n",
              "\n",
              "  if (!files) {\n",
              "    return {\n",
              "      response: {\n",
              "        action: 'complete',\n",
              "      }\n",
              "    };\n",
              "  }\n",
              "\n",
              "  for (const file of files) {\n",
              "    const li = document.createElement('li');\n",
              "    li.append(span(file.name, {fontWeight: 'bold'}));\n",
              "    li.append(span(\n",
              "        `(${file.type || 'n/a'}) - ${file.size} bytes, ` +\n",
              "        `last modified: ${\n",
              "            file.lastModifiedDate ? file.lastModifiedDate.toLocaleDateString() :\n",
              "                                    'n/a'} - `));\n",
              "    const percent = span('0% done');\n",
              "    li.appendChild(percent);\n",
              "\n",
              "    outputElement.appendChild(li);\n",
              "\n",
              "    const fileDataPromise = new Promise((resolve) => {\n",
              "      const reader = new FileReader();\n",
              "      reader.onload = (e) => {\n",
              "        resolve(e.target.result);\n",
              "      };\n",
              "      reader.readAsArrayBuffer(file);\n",
              "    });\n",
              "    // Wait for the data to be ready.\n",
              "    let fileData = yield {\n",
              "      promise: fileDataPromise,\n",
              "      response: {\n",
              "        action: 'continue',\n",
              "      }\n",
              "    };\n",
              "\n",
              "    // Use a chunked sending to avoid message size limits. See b/62115660.\n",
              "    let position = 0;\n",
              "    do {\n",
              "      const length = Math.min(fileData.byteLength - position, MAX_PAYLOAD_SIZE);\n",
              "      const chunk = new Uint8Array(fileData, position, length);\n",
              "      position += length;\n",
              "\n",
              "      const base64 = btoa(String.fromCharCode.apply(null, chunk));\n",
              "      yield {\n",
              "        response: {\n",
              "          action: 'append',\n",
              "          file: file.name,\n",
              "          data: base64,\n",
              "        },\n",
              "      };\n",
              "\n",
              "      let percentDone = fileData.byteLength === 0 ?\n",
              "          100 :\n",
              "          Math.round((position / fileData.byteLength) * 100);\n",
              "      percent.textContent = `${percentDone}% done`;\n",
              "\n",
              "    } while (position < fileData.byteLength);\n",
              "  }\n",
              "\n",
              "  // All done.\n",
              "  yield {\n",
              "    response: {\n",
              "      action: 'complete',\n",
              "    }\n",
              "  };\n",
              "}\n",
              "\n",
              "scope.google = scope.google || {};\n",
              "scope.google.colab = scope.google.colab || {};\n",
              "scope.google.colab._files = {\n",
              "  _uploadFiles,\n",
              "  _uploadFilesContinue,\n",
              "};\n",
              "})(self);\n",
              "</script> "
            ]
          },
          "metadata": {}
        },
        {
          "output_type": "stream",
          "name": "stdout",
          "text": [
            "Saving Orders.csv to Orders.csv\n"
          ]
        }
      ],
      "source": [
        "from google.colab import files\n",
        "up = files.upload()\n"
      ]
    },
    {
      "cell_type": "code",
      "source": [
        "!pip install pyspark"
      ],
      "metadata": {
        "colab": {
          "base_uri": "https://localhost:8080/"
        },
        "id": "mlWUeIS-BPNo",
        "outputId": "34587c2b-8c8b-413c-bc60-30b8165664c5"
      },
      "execution_count": null,
      "outputs": [
        {
          "output_type": "stream",
          "name": "stdout",
          "text": [
            "Collecting pyspark\n",
            "  Downloading pyspark-3.5.2.tar.gz (317.3 MB)\n",
            "\u001b[2K     \u001b[90m━━━━━━━━━━━━━━━━━━━━━━━━━━━━━━━━━━━━━━━━\u001b[0m \u001b[32m317.3/317.3 MB\u001b[0m \u001b[31m2.3 MB/s\u001b[0m eta \u001b[36m0:00:00\u001b[0m\n",
            "\u001b[?25h  Preparing metadata (setup.py) ... \u001b[?25l\u001b[?25hdone\n",
            "Requirement already satisfied: py4j==0.10.9.7 in /usr/local/lib/python3.10/dist-packages (from pyspark) (0.10.9.7)\n",
            "Building wheels for collected packages: pyspark\n",
            "  Building wheel for pyspark (setup.py) ... \u001b[?25l\u001b[?25hdone\n",
            "  Created wheel for pyspark: filename=pyspark-3.5.2-py2.py3-none-any.whl size=317812365 sha256=ae7caea31788826300232e7d078ae14548548f4af7eb3e97fd9d2a0cdb1d27b6\n",
            "  Stored in directory: /root/.cache/pip/wheels/34/34/bd/03944534c44b677cd5859f248090daa9fb27b3c8f8e5f49574\n",
            "Successfully built pyspark\n",
            "Installing collected packages: pyspark\n",
            "Successfully installed pyspark-3.5.2\n"
          ]
        }
      ]
    },
    {
      "cell_type": "code",
      "source": [
        "import pyspark\n",
        "from pyspark.sql import SparkSession"
      ],
      "metadata": {
        "id": "NReMltBUBPQ4"
      },
      "execution_count": null,
      "outputs": []
    },
    {
      "cell_type": "code",
      "source": [
        "spark = SparkSession.builder.appName('app').getOrCreate()"
      ],
      "metadata": {
        "id": "igDTCru9BPT2"
      },
      "execution_count": null,
      "outputs": []
    },
    {
      "cell_type": "code",
      "source": [
        "type(spark)"
      ],
      "metadata": {
        "colab": {
          "base_uri": "https://localhost:8080/",
          "height": 203
        },
        "id": "7IeYJ6ODBPWw",
        "outputId": "17fa5d0e-d596-4379-934b-57fc8a313ee8"
      },
      "execution_count": null,
      "outputs": [
        {
          "output_type": "execute_result",
          "data": {
            "text/plain": [
              "pyspark.sql.session.SparkSession"
            ],
            "text/html": [
              "<div style=\"max-width:800px; border: 1px solid var(--colab-border-color);\"><style>\n",
              "      pre.function-repr-contents {\n",
              "        overflow-x: auto;\n",
              "        padding: 8px 12px;\n",
              "        max-height: 500px;\n",
              "      }\n",
              "\n",
              "      pre.function-repr-contents.function-repr-contents-collapsed {\n",
              "        cursor: pointer;\n",
              "        max-height: 100px;\n",
              "      }\n",
              "    </style>\n",
              "    <pre style=\"white-space: initial; background:\n",
              "         var(--colab-secondary-surface-color); padding: 8px 12px;\n",
              "         border-bottom: 1px solid var(--colab-border-color);\"><b>pyspark.sql.session.SparkSession</b><br/>def __init__(sparkContext: SparkContext, jsparkSession: Optional[JavaObject]=None, options: Dict[str, Any]={})</pre><pre class=\"function-repr-contents function-repr-contents-collapsed\" style=\"\"><a class=\"filepath\" style=\"display:none\" href=\"#\">/usr/local/lib/python3.10/dist-packages/pyspark/sql/session.py</a>The entry point to programming Spark with the Dataset and DataFrame API.\n",
              "\n",
              "A SparkSession can be used to create :class:`DataFrame`, register :class:`DataFrame` as\n",
              "tables, execute SQL over tables, cache tables, and read parquet files.\n",
              "To create a :class:`SparkSession`, use the following builder pattern:\n",
              "\n",
              ".. versionchanged:: 3.4.0\n",
              "    Supports Spark Connect.\n",
              "\n",
              ".. autoattribute:: builder\n",
              "   :annotation:\n",
              "\n",
              "Examples\n",
              "--------\n",
              "Create a Spark session.\n",
              "\n",
              "&gt;&gt;&gt; spark = (\n",
              "...     SparkSession.builder\n",
              "...         .master(&quot;local&quot;)\n",
              "...         .appName(&quot;Word Count&quot;)\n",
              "...         .config(&quot;spark.some.config.option&quot;, &quot;some-value&quot;)\n",
              "...         .getOrCreate()\n",
              "... )\n",
              "\n",
              "Create a Spark session with Spark Connect.\n",
              "\n",
              "&gt;&gt;&gt; spark = (\n",
              "...     SparkSession.builder\n",
              "...         .remote(&quot;sc://localhost&quot;)\n",
              "...         .appName(&quot;Word Count&quot;)\n",
              "...         .config(&quot;spark.some.config.option&quot;, &quot;some-value&quot;)\n",
              "...         .getOrCreate()\n",
              "... )  # doctest: +SKIP</pre>\n",
              "      <script>\n",
              "      if (google.colab.kernel.accessAllowed && google.colab.files && google.colab.files.view) {\n",
              "        for (const element of document.querySelectorAll('.filepath')) {\n",
              "          element.style.display = 'block'\n",
              "          element.onclick = (event) => {\n",
              "            event.preventDefault();\n",
              "            event.stopPropagation();\n",
              "            google.colab.files.view(element.textContent, 166);\n",
              "          };\n",
              "        }\n",
              "      }\n",
              "      for (const element of document.querySelectorAll('.function-repr-contents')) {\n",
              "        element.onclick = (event) => {\n",
              "          event.preventDefault();\n",
              "          event.stopPropagation();\n",
              "          element.classList.toggle('function-repr-contents-collapsed');\n",
              "        };\n",
              "      }\n",
              "      </script>\n",
              "      </div>"
            ]
          },
          "metadata": {},
          "execution_count": 5
        }
      ]
    },
    {
      "cell_type": "code",
      "source": [
        "spark = spark.read.csv('Orders.csv',header = True,inferSchema = True)"
      ],
      "metadata": {
        "id": "gEDaEICXBPZ1"
      },
      "execution_count": null,
      "outputs": []
    },
    {
      "cell_type": "code",
      "source": [
        "print(type(spark))\n",
        "spark.show()"
      ],
      "metadata": {
        "colab": {
          "base_uri": "https://localhost:8080/"
        },
        "id": "it-R0sjBBPc2",
        "outputId": "7c6cd082-6bbd-42d3-d497-820b201d0408"
      },
      "execution_count": null,
      "outputs": [
        {
          "output_type": "stream",
          "name": "stdout",
          "text": [
            "<class 'pyspark.sql.dataframe.DataFrame'>\n",
            "+--------+------+------+--------+-----------+----------------+-----------+\n",
            "|Order_ID|Amount|Profit|Quantity|   Category|    Sub-Category|PaymentMode|\n",
            "+--------+------+------+--------+-----------+----------------+-----------+\n",
            "| B-25681|  1096|   658|       7|Electronics|Electronic Games|        COD|\n",
            "| B-26055|  5729|    64|      14|  Furniture|          Chairs|        EMI|\n",
            "| B-25955|  2927|   146|       8|  Furniture|       Bookcases|        EMI|\n",
            "| B-26093|  2847|   712|       8|Electronics|        Printers|Credit Card|\n",
            "| B-25602|  2617|  1151|       4|Electronics|          Phones|Credit Card|\n",
            "| B-25881|  2244|   247|       4|   Clothing|        Trousers|Credit Card|\n",
            "| B-25696|   275|  -275|       4|   Clothing|           Saree|        COD|\n",
            "| B-25687|   387|  -213|       5|   Clothing|           Saree|        UPI|\n",
            "| B-25643|    50|   -44|       2|   Clothing|     Hankerchief|        UPI|\n",
            "| B-25851|   135|   -54|       5|   Clothing|           Kurti|        COD|\n",
            "| B-25703|   231|  -190|       9|   Clothing|     Hankerchief|        COD|\n",
            "| B-25887|  2125|  -234|       6|Electronics|        Printers|        EMI|\n",
            "| B-25923|  3873|  -891|       6|Electronics|          Phones|Credit Card|\n",
            "| B-25756|   729|  -492|       5|  Furniture|       Bookcases|        UPI|\n",
            "| B-25761|  2188|  1050|       5|  Furniture|       Bookcases|Credit Card|\n",
            "| B-25655|     6|    -3|       1|   Clothing|     Hankerchief|        UPI|\n",
            "| B-25786|  1854|   433|       5|  Furniture|       Bookcases|Credit Card|\n",
            "| B-26095|     6|     1|       1|   Clothing|           Kurti|        UPI|\n",
            "| B-25853|  2093|   721|       5|  Furniture|          Chairs|Credit Card|\n",
            "| B-25735|     7|    -1|       2|   Clothing|           Skirt|        UPI|\n",
            "+--------+------+------+--------+-----------+----------------+-----------+\n",
            "only showing top 20 rows\n",
            "\n"
          ]
        }
      ]
    },
    {
      "cell_type": "code",
      "source": [
        "spark.head(3)\n"
      ],
      "metadata": {
        "colab": {
          "base_uri": "https://localhost:8080/"
        },
        "id": "GrCXXT2aBPfx",
        "outputId": "b8e52720-da47-4bff-ad25-e130525b693c"
      },
      "execution_count": null,
      "outputs": [
        {
          "output_type": "execute_result",
          "data": {
            "text/plain": [
              "[Row(Order_ID='B-25681', Amount=1096, Profit=658, Quantity=7, Category='Electronics', Sub-Category='Electronic Games', PaymentMode='COD'),\n",
              " Row(Order_ID='B-26055', Amount=5729, Profit=64, Quantity=14, Category='Furniture', Sub-Category='Chairs', PaymentMode='EMI'),\n",
              " Row(Order_ID='B-25955', Amount=2927, Profit=146, Quantity=8, Category='Furniture', Sub-Category='Bookcases', PaymentMode='EMI')]"
            ]
          },
          "metadata": {},
          "execution_count": 8
        }
      ]
    },
    {
      "cell_type": "code",
      "source": [
        "spark.printSchema()"
      ],
      "metadata": {
        "colab": {
          "base_uri": "https://localhost:8080/"
        },
        "id": "ViR43YA3B2un",
        "outputId": "f77639f5-dee2-4045-b123-594fd82d58b4"
      },
      "execution_count": null,
      "outputs": [
        {
          "output_type": "stream",
          "name": "stdout",
          "text": [
            "root\n",
            " |-- Order_ID: string (nullable = true)\n",
            " |-- Amount: integer (nullable = true)\n",
            " |-- Profit: integer (nullable = true)\n",
            " |-- Quantity: integer (nullable = true)\n",
            " |-- Category: string (nullable = true)\n",
            " |-- Sub-Category: string (nullable = true)\n",
            " |-- PaymentMode: string (nullable = true)\n",
            "\n"
          ]
        }
      ]
    },
    {
      "cell_type": "code",
      "source": [
        "spark['Amount']"
      ],
      "metadata": {
        "colab": {
          "base_uri": "https://localhost:8080/"
        },
        "id": "IxM_hLf8B2xq",
        "outputId": "bc7042b4-0ffb-493e-d607-f17e21c14f28"
      },
      "execution_count": null,
      "outputs": [
        {
          "output_type": "execute_result",
          "data": {
            "text/plain": [
              "Column<'Amount'>"
            ]
          },
          "metadata": {},
          "execution_count": 10
        }
      ]
    },
    {
      "cell_type": "code",
      "source": [
        "spark.dtypes"
      ],
      "metadata": {
        "colab": {
          "base_uri": "https://localhost:8080/"
        },
        "id": "kvVGg-RRB20x",
        "outputId": "31880f4f-3ad6-4a9e-f9b4-810d40e1f85e"
      },
      "execution_count": null,
      "outputs": [
        {
          "output_type": "execute_result",
          "data": {
            "text/plain": [
              "[('Order_ID', 'string'),\n",
              " ('Amount', 'int'),\n",
              " ('Profit', 'int'),\n",
              " ('Quantity', 'int'),\n",
              " ('Category', 'string'),\n",
              " ('Sub-Category', 'string'),\n",
              " ('PaymentMode', 'string')]"
            ]
          },
          "metadata": {},
          "execution_count": 11
        }
      ]
    },
    {
      "cell_type": "code",
      "source": [
        "spark.tail(3)"
      ],
      "metadata": {
        "colab": {
          "base_uri": "https://localhost:8080/"
        },
        "id": "IpEu-J3SB23m",
        "outputId": "479e8cd3-63b4-4b45-918a-b8cbab1a9a2d"
      },
      "execution_count": null,
      "outputs": [
        {
          "output_type": "execute_result",
          "data": {
            "text/plain": [
              "[Row(Order_ID='B-25973', Amount=4141, Profit=1698, Quantity=13, Category='Electronics', Sub-Category='Printers', PaymentMode='COD'),\n",
              " Row(Order_ID='B-25698', Amount=7, Profit=-2, Quantity=1, Category='Clothing', Sub-Category='Hankerchief', PaymentMode='COD'),\n",
              " Row(Order_ID='B-25993', Amount=4363, Profit=305, Quantity=5, Category='Furniture', Sub-Category='Tables', PaymentMode='EMI')]"
            ]
          },
          "metadata": {},
          "execution_count": 12
        }
      ]
    },
    {
      "cell_type": "code",
      "source": [
        "spark.describe().show()"
      ],
      "metadata": {
        "colab": {
          "base_uri": "https://localhost:8080/"
        },
        "id": "LQ3Rda0lB26w",
        "outputId": "a58eca67-8af1-4d19-eec0-598877a07a09"
      },
      "execution_count": null,
      "outputs": [
        {
          "output_type": "stream",
          "name": "stdout",
          "text": [
            "+-------+--------+------------------+-----------------+-----------------+---------+------------+-----------+\n",
            "|summary|Order_ID|            Amount|           Profit|         Quantity| Category|Sub-Category|PaymentMode|\n",
            "+-------+--------+------------------+-----------------+-----------------+---------+------------+-----------+\n",
            "|  count|    1500|              1500|             1500|             1500|     1500|        1500|       1500|\n",
            "|   mean|    NULL| 291.8473333333333|           24.642|3.743333333333333|     NULL|        NULL|       NULL|\n",
            "| stddev|    NULL|461.92462039764547|168.5588103631313|2.184941998447543|     NULL|        NULL|       NULL|\n",
            "|    min| B-25601|                 4|            -1981|                1| Clothing| Accessories|        COD|\n",
            "|    max| B-26100|              5729|             1864|               14|Furniture|    Trousers|        UPI|\n",
            "+-------+--------+------------------+-----------------+-----------------+---------+------------+-----------+\n",
            "\n"
          ]
        }
      ]
    },
    {
      "cell_type": "code",
      "source": [
        "spark = spark.withColumn('Newcolumn',spark['Amount']+5)\n",
        "spark.show()"
      ],
      "metadata": {
        "colab": {
          "base_uri": "https://localhost:8080/"
        },
        "id": "0lbXJSBxB297",
        "outputId": "fe9e2c78-3f7c-4183-d6ff-16d479b26b63"
      },
      "execution_count": null,
      "outputs": [
        {
          "output_type": "stream",
          "name": "stdout",
          "text": [
            "+--------+------+------+--------+-----------+----------------+-----------+---------+\n",
            "|Order_ID|Amount|Profit|Quantity|   Category|    Sub-Category|PaymentMode|Newcolumn|\n",
            "+--------+------+------+--------+-----------+----------------+-----------+---------+\n",
            "| B-25681|  1096|   658|       7|Electronics|Electronic Games|        COD|     1101|\n",
            "| B-26055|  5729|    64|      14|  Furniture|          Chairs|        EMI|     5734|\n",
            "| B-25955|  2927|   146|       8|  Furniture|       Bookcases|        EMI|     2932|\n",
            "| B-26093|  2847|   712|       8|Electronics|        Printers|Credit Card|     2852|\n",
            "| B-25602|  2617|  1151|       4|Electronics|          Phones|Credit Card|     2622|\n",
            "| B-25881|  2244|   247|       4|   Clothing|        Trousers|Credit Card|     2249|\n",
            "| B-25696|   275|  -275|       4|   Clothing|           Saree|        COD|      280|\n",
            "| B-25687|   387|  -213|       5|   Clothing|           Saree|        UPI|      392|\n",
            "| B-25643|    50|   -44|       2|   Clothing|     Hankerchief|        UPI|       55|\n",
            "| B-25851|   135|   -54|       5|   Clothing|           Kurti|        COD|      140|\n",
            "| B-25703|   231|  -190|       9|   Clothing|     Hankerchief|        COD|      236|\n",
            "| B-25887|  2125|  -234|       6|Electronics|        Printers|        EMI|     2130|\n",
            "| B-25923|  3873|  -891|       6|Electronics|          Phones|Credit Card|     3878|\n",
            "| B-25756|   729|  -492|       5|  Furniture|       Bookcases|        UPI|      734|\n",
            "| B-25761|  2188|  1050|       5|  Furniture|       Bookcases|Credit Card|     2193|\n",
            "| B-25655|     6|    -3|       1|   Clothing|     Hankerchief|        UPI|       11|\n",
            "| B-25786|  1854|   433|       5|  Furniture|       Bookcases|Credit Card|     1859|\n",
            "| B-26095|     6|     1|       1|   Clothing|           Kurti|        UPI|       11|\n",
            "| B-25853|  2093|   721|       5|  Furniture|          Chairs|Credit Card|     2098|\n",
            "| B-25735|     7|    -1|       2|   Clothing|           Skirt|        UPI|       12|\n",
            "+--------+------+------+--------+-----------+----------------+-----------+---------+\n",
            "only showing top 20 rows\n",
            "\n"
          ]
        }
      ]
    },
    {
      "cell_type": "code",
      "source": [
        "spark = spark.drop('Newcolumn')\n",
        "spark.show()"
      ],
      "metadata": {
        "colab": {
          "base_uri": "https://localhost:8080/"
        },
        "id": "3e2PdKpwBPin",
        "outputId": "303b5cdc-97aa-4498-f0d7-88b7827fc7c0"
      },
      "execution_count": null,
      "outputs": [
        {
          "output_type": "stream",
          "name": "stdout",
          "text": [
            "+--------+------+------+--------+-----------+----------------+-----------+\n",
            "|Order_ID|Amount|Profit|Quantity|   Category|    Sub-Category|PaymentMode|\n",
            "+--------+------+------+--------+-----------+----------------+-----------+\n",
            "| B-25681|  1096|   658|       7|Electronics|Electronic Games|        COD|\n",
            "| B-26055|  5729|    64|      14|  Furniture|          Chairs|        EMI|\n",
            "| B-25955|  2927|   146|       8|  Furniture|       Bookcases|        EMI|\n",
            "| B-26093|  2847|   712|       8|Electronics|        Printers|Credit Card|\n",
            "| B-25602|  2617|  1151|       4|Electronics|          Phones|Credit Card|\n",
            "| B-25881|  2244|   247|       4|   Clothing|        Trousers|Credit Card|\n",
            "| B-25696|   275|  -275|       4|   Clothing|           Saree|        COD|\n",
            "| B-25687|   387|  -213|       5|   Clothing|           Saree|        UPI|\n",
            "| B-25643|    50|   -44|       2|   Clothing|     Hankerchief|        UPI|\n",
            "| B-25851|   135|   -54|       5|   Clothing|           Kurti|        COD|\n",
            "| B-25703|   231|  -190|       9|   Clothing|     Hankerchief|        COD|\n",
            "| B-25887|  2125|  -234|       6|Electronics|        Printers|        EMI|\n",
            "| B-25923|  3873|  -891|       6|Electronics|          Phones|Credit Card|\n",
            "| B-25756|   729|  -492|       5|  Furniture|       Bookcases|        UPI|\n",
            "| B-25761|  2188|  1050|       5|  Furniture|       Bookcases|Credit Card|\n",
            "| B-25655|     6|    -3|       1|   Clothing|     Hankerchief|        UPI|\n",
            "| B-25786|  1854|   433|       5|  Furniture|       Bookcases|Credit Card|\n",
            "| B-26095|     6|     1|       1|   Clothing|           Kurti|        UPI|\n",
            "| B-25853|  2093|   721|       5|  Furniture|          Chairs|Credit Card|\n",
            "| B-25735|     7|    -1|       2|   Clothing|           Skirt|        UPI|\n",
            "+--------+------+------+--------+-----------+----------------+-----------+\n",
            "only showing top 20 rows\n",
            "\n"
          ]
        }
      ]
    },
    {
      "cell_type": "code",
      "source": [
        "spark.show()"
      ],
      "metadata": {
        "colab": {
          "base_uri": "https://localhost:8080/"
        },
        "id": "jix0D6yTCREe",
        "outputId": "88e55eb6-27a9-4404-d75d-c9ff963c7a89"
      },
      "execution_count": null,
      "outputs": [
        {
          "output_type": "stream",
          "name": "stdout",
          "text": [
            "+--------+------+------+--------+-----------+----------------+-----------+\n",
            "|Order_ID|Amount|Profit|Quantity|   Category|    Sub-Category|PaymentMode|\n",
            "+--------+------+------+--------+-----------+----------------+-----------+\n",
            "| B-25681|  1096|   658|       7|Electronics|Electronic Games|        COD|\n",
            "| B-26055|  5729|    64|      14|  Furniture|          Chairs|        EMI|\n",
            "| B-25955|  2927|   146|       8|  Furniture|       Bookcases|        EMI|\n",
            "| B-26093|  2847|   712|       8|Electronics|        Printers|Credit Card|\n",
            "| B-25602|  2617|  1151|       4|Electronics|          Phones|Credit Card|\n",
            "| B-25881|  2244|   247|       4|   Clothing|        Trousers|Credit Card|\n",
            "| B-25696|   275|  -275|       4|   Clothing|           Saree|        COD|\n",
            "| B-25687|   387|  -213|       5|   Clothing|           Saree|        UPI|\n",
            "| B-25643|    50|   -44|       2|   Clothing|     Hankerchief|        UPI|\n",
            "| B-25851|   135|   -54|       5|   Clothing|           Kurti|        COD|\n",
            "| B-25703|   231|  -190|       9|   Clothing|     Hankerchief|        COD|\n",
            "| B-25887|  2125|  -234|       6|Electronics|        Printers|        EMI|\n",
            "| B-25923|  3873|  -891|       6|Electronics|          Phones|Credit Card|\n",
            "| B-25756|   729|  -492|       5|  Furniture|       Bookcases|        UPI|\n",
            "| B-25761|  2188|  1050|       5|  Furniture|       Bookcases|Credit Card|\n",
            "| B-25655|     6|    -3|       1|   Clothing|     Hankerchief|        UPI|\n",
            "| B-25786|  1854|   433|       5|  Furniture|       Bookcases|Credit Card|\n",
            "| B-26095|     6|     1|       1|   Clothing|           Kurti|        UPI|\n",
            "| B-25853|  2093|   721|       5|  Furniture|          Chairs|Credit Card|\n",
            "| B-25735|     7|    -1|       2|   Clothing|           Skirt|        UPI|\n",
            "+--------+------+------+--------+-----------+----------------+-----------+\n",
            "only showing top 20 rows\n",
            "\n"
          ]
        }
      ]
    },
    {
      "cell_type": "code",
      "source": [
        "\n",
        "spark.na.drop().show()"
      ],
      "metadata": {
        "colab": {
          "base_uri": "https://localhost:8080/"
        },
        "id": "1hYPdee6CRHg",
        "outputId": "c06229af-4ca0-4a18-8e77-a6b855a3bbfb"
      },
      "execution_count": null,
      "outputs": [
        {
          "output_type": "stream",
          "name": "stdout",
          "text": [
            "+--------+------+------+--------+-----------+----------------+-----------+\n",
            "|Order_ID|Amount|Profit|Quantity|   Category|    Sub-Category|PaymentMode|\n",
            "+--------+------+------+--------+-----------+----------------+-----------+\n",
            "| B-25681|  1096|   658|       7|Electronics|Electronic Games|        COD|\n",
            "| B-26055|  5729|    64|      14|  Furniture|          Chairs|        EMI|\n",
            "| B-25955|  2927|   146|       8|  Furniture|       Bookcases|        EMI|\n",
            "| B-26093|  2847|   712|       8|Electronics|        Printers|Credit Card|\n",
            "| B-25602|  2617|  1151|       4|Electronics|          Phones|Credit Card|\n",
            "| B-25881|  2244|   247|       4|   Clothing|        Trousers|Credit Card|\n",
            "| B-25696|   275|  -275|       4|   Clothing|           Saree|        COD|\n",
            "| B-25687|   387|  -213|       5|   Clothing|           Saree|        UPI|\n",
            "| B-25643|    50|   -44|       2|   Clothing|     Hankerchief|        UPI|\n",
            "| B-25851|   135|   -54|       5|   Clothing|           Kurti|        COD|\n",
            "| B-25703|   231|  -190|       9|   Clothing|     Hankerchief|        COD|\n",
            "| B-25887|  2125|  -234|       6|Electronics|        Printers|        EMI|\n",
            "| B-25923|  3873|  -891|       6|Electronics|          Phones|Credit Card|\n",
            "| B-25756|   729|  -492|       5|  Furniture|       Bookcases|        UPI|\n",
            "| B-25761|  2188|  1050|       5|  Furniture|       Bookcases|Credit Card|\n",
            "| B-25655|     6|    -3|       1|   Clothing|     Hankerchief|        UPI|\n",
            "| B-25786|  1854|   433|       5|  Furniture|       Bookcases|Credit Card|\n",
            "| B-26095|     6|     1|       1|   Clothing|           Kurti|        UPI|\n",
            "| B-25853|  2093|   721|       5|  Furniture|          Chairs|Credit Card|\n",
            "| B-25735|     7|    -1|       2|   Clothing|           Skirt|        UPI|\n",
            "+--------+------+------+--------+-----------+----------------+-----------+\n",
            "only showing top 20 rows\n",
            "\n"
          ]
        }
      ]
    },
    {
      "cell_type": "code",
      "source": [
        "spark.na.drop(how = 'all').show()"
      ],
      "metadata": {
        "colab": {
          "base_uri": "https://localhost:8080/"
        },
        "id": "uemmhW9JCRKh",
        "outputId": "4a2f5b4b-110a-4526-ae5b-968d99ee4803"
      },
      "execution_count": null,
      "outputs": [
        {
          "output_type": "stream",
          "name": "stdout",
          "text": [
            "+--------+------+------+--------+-----------+----------------+-----------+\n",
            "|Order_ID|Amount|Profit|Quantity|   Category|    Sub-Category|PaymentMode|\n",
            "+--------+------+------+--------+-----------+----------------+-----------+\n",
            "| B-25681|  1096|   658|       7|Electronics|Electronic Games|        COD|\n",
            "| B-26055|  5729|    64|      14|  Furniture|          Chairs|        EMI|\n",
            "| B-25955|  2927|   146|       8|  Furniture|       Bookcases|        EMI|\n",
            "| B-26093|  2847|   712|       8|Electronics|        Printers|Credit Card|\n",
            "| B-25602|  2617|  1151|       4|Electronics|          Phones|Credit Card|\n",
            "| B-25881|  2244|   247|       4|   Clothing|        Trousers|Credit Card|\n",
            "| B-25696|   275|  -275|       4|   Clothing|           Saree|        COD|\n",
            "| B-25687|   387|  -213|       5|   Clothing|           Saree|        UPI|\n",
            "| B-25643|    50|   -44|       2|   Clothing|     Hankerchief|        UPI|\n",
            "| B-25851|   135|   -54|       5|   Clothing|           Kurti|        COD|\n",
            "| B-25703|   231|  -190|       9|   Clothing|     Hankerchief|        COD|\n",
            "| B-25887|  2125|  -234|       6|Electronics|        Printers|        EMI|\n",
            "| B-25923|  3873|  -891|       6|Electronics|          Phones|Credit Card|\n",
            "| B-25756|   729|  -492|       5|  Furniture|       Bookcases|        UPI|\n",
            "| B-25761|  2188|  1050|       5|  Furniture|       Bookcases|Credit Card|\n",
            "| B-25655|     6|    -3|       1|   Clothing|     Hankerchief|        UPI|\n",
            "| B-25786|  1854|   433|       5|  Furniture|       Bookcases|Credit Card|\n",
            "| B-26095|     6|     1|       1|   Clothing|           Kurti|        UPI|\n",
            "| B-25853|  2093|   721|       5|  Furniture|          Chairs|Credit Card|\n",
            "| B-25735|     7|    -1|       2|   Clothing|           Skirt|        UPI|\n",
            "+--------+------+------+--------+-----------+----------------+-----------+\n",
            "only showing top 20 rows\n",
            "\n"
          ]
        }
      ]
    },
    {
      "cell_type": "code",
      "source": [
        "spark.na.drop(how = 'any',subset = ['Amount','Category','Order_ID']).show()"
      ],
      "metadata": {
        "colab": {
          "base_uri": "https://localhost:8080/"
        },
        "id": "YkkCEAQPCfA9",
        "outputId": "0fcf0af9-6d98-47c8-9223-3bf2a3d3dd21"
      },
      "execution_count": null,
      "outputs": [
        {
          "output_type": "stream",
          "name": "stdout",
          "text": [
            "+--------+------+------+--------+-----------+----------------+-----------+\n",
            "|Order_ID|Amount|Profit|Quantity|   Category|    Sub-Category|PaymentMode|\n",
            "+--------+------+------+--------+-----------+----------------+-----------+\n",
            "| B-25681|  1096|   658|       7|Electronics|Electronic Games|        COD|\n",
            "| B-26055|  5729|    64|      14|  Furniture|          Chairs|        EMI|\n",
            "| B-25955|  2927|   146|       8|  Furniture|       Bookcases|        EMI|\n",
            "| B-26093|  2847|   712|       8|Electronics|        Printers|Credit Card|\n",
            "| B-25602|  2617|  1151|       4|Electronics|          Phones|Credit Card|\n",
            "| B-25881|  2244|   247|       4|   Clothing|        Trousers|Credit Card|\n",
            "| B-25696|   275|  -275|       4|   Clothing|           Saree|        COD|\n",
            "| B-25687|   387|  -213|       5|   Clothing|           Saree|        UPI|\n",
            "| B-25643|    50|   -44|       2|   Clothing|     Hankerchief|        UPI|\n",
            "| B-25851|   135|   -54|       5|   Clothing|           Kurti|        COD|\n",
            "| B-25703|   231|  -190|       9|   Clothing|     Hankerchief|        COD|\n",
            "| B-25887|  2125|  -234|       6|Electronics|        Printers|        EMI|\n",
            "| B-25923|  3873|  -891|       6|Electronics|          Phones|Credit Card|\n",
            "| B-25756|   729|  -492|       5|  Furniture|       Bookcases|        UPI|\n",
            "| B-25761|  2188|  1050|       5|  Furniture|       Bookcases|Credit Card|\n",
            "| B-25655|     6|    -3|       1|   Clothing|     Hankerchief|        UPI|\n",
            "| B-25786|  1854|   433|       5|  Furniture|       Bookcases|Credit Card|\n",
            "| B-26095|     6|     1|       1|   Clothing|           Kurti|        UPI|\n",
            "| B-25853|  2093|   721|       5|  Furniture|          Chairs|Credit Card|\n",
            "| B-25735|     7|    -1|       2|   Clothing|           Skirt|        UPI|\n",
            "+--------+------+------+--------+-----------+----------------+-----------+\n",
            "only showing top 20 rows\n",
            "\n"
          ]
        }
      ]
    },
    {
      "cell_type": "code",
      "source": [
        "spark.na.fill('missing values').show()"
      ],
      "metadata": {
        "colab": {
          "base_uri": "https://localhost:8080/"
        },
        "id": "vtgIZnc2CfEA",
        "outputId": "821e89c7-dc23-4948-8ceb-9d5fff5876b1"
      },
      "execution_count": null,
      "outputs": [
        {
          "output_type": "stream",
          "name": "stdout",
          "text": [
            "+--------+------+------+--------+-----------+----------------+-----------+\n",
            "|Order_ID|Amount|Profit|Quantity|   Category|    Sub-Category|PaymentMode|\n",
            "+--------+------+------+--------+-----------+----------------+-----------+\n",
            "| B-25681|  1096|   658|       7|Electronics|Electronic Games|        COD|\n",
            "| B-26055|  5729|    64|      14|  Furniture|          Chairs|        EMI|\n",
            "| B-25955|  2927|   146|       8|  Furniture|       Bookcases|        EMI|\n",
            "| B-26093|  2847|   712|       8|Electronics|        Printers|Credit Card|\n",
            "| B-25602|  2617|  1151|       4|Electronics|          Phones|Credit Card|\n",
            "| B-25881|  2244|   247|       4|   Clothing|        Trousers|Credit Card|\n",
            "| B-25696|   275|  -275|       4|   Clothing|           Saree|        COD|\n",
            "| B-25687|   387|  -213|       5|   Clothing|           Saree|        UPI|\n",
            "| B-25643|    50|   -44|       2|   Clothing|     Hankerchief|        UPI|\n",
            "| B-25851|   135|   -54|       5|   Clothing|           Kurti|        COD|\n",
            "| B-25703|   231|  -190|       9|   Clothing|     Hankerchief|        COD|\n",
            "| B-25887|  2125|  -234|       6|Electronics|        Printers|        EMI|\n",
            "| B-25923|  3873|  -891|       6|Electronics|          Phones|Credit Card|\n",
            "| B-25756|   729|  -492|       5|  Furniture|       Bookcases|        UPI|\n",
            "| B-25761|  2188|  1050|       5|  Furniture|       Bookcases|Credit Card|\n",
            "| B-25655|     6|    -3|       1|   Clothing|     Hankerchief|        UPI|\n",
            "| B-25786|  1854|   433|       5|  Furniture|       Bookcases|Credit Card|\n",
            "| B-26095|     6|     1|       1|   Clothing|           Kurti|        UPI|\n",
            "| B-25853|  2093|   721|       5|  Furniture|          Chairs|Credit Card|\n",
            "| B-25735|     7|    -1|       2|   Clothing|           Skirt|        UPI|\n",
            "+--------+------+------+--------+-----------+----------------+-----------+\n",
            "only showing top 20 rows\n",
            "\n"
          ]
        }
      ]
    },
    {
      "cell_type": "code",
      "source": [
        "spark.na.fill(0,subset = ['Amount','Order_ID','Category']).show()"
      ],
      "metadata": {
        "colab": {
          "base_uri": "https://localhost:8080/"
        },
        "id": "014BAx45CfGo",
        "outputId": "4de66b85-2650-439f-9d0c-272e6da15057"
      },
      "execution_count": null,
      "outputs": [
        {
          "output_type": "stream",
          "name": "stdout",
          "text": [
            "+--------+------+------+--------+-----------+----------------+-----------+\n",
            "|Order_ID|Amount|Profit|Quantity|   Category|    Sub-Category|PaymentMode|\n",
            "+--------+------+------+--------+-----------+----------------+-----------+\n",
            "| B-25681|  1096|   658|       7|Electronics|Electronic Games|        COD|\n",
            "| B-26055|  5729|    64|      14|  Furniture|          Chairs|        EMI|\n",
            "| B-25955|  2927|   146|       8|  Furniture|       Bookcases|        EMI|\n",
            "| B-26093|  2847|   712|       8|Electronics|        Printers|Credit Card|\n",
            "| B-25602|  2617|  1151|       4|Electronics|          Phones|Credit Card|\n",
            "| B-25881|  2244|   247|       4|   Clothing|        Trousers|Credit Card|\n",
            "| B-25696|   275|  -275|       4|   Clothing|           Saree|        COD|\n",
            "| B-25687|   387|  -213|       5|   Clothing|           Saree|        UPI|\n",
            "| B-25643|    50|   -44|       2|   Clothing|     Hankerchief|        UPI|\n",
            "| B-25851|   135|   -54|       5|   Clothing|           Kurti|        COD|\n",
            "| B-25703|   231|  -190|       9|   Clothing|     Hankerchief|        COD|\n",
            "| B-25887|  2125|  -234|       6|Electronics|        Printers|        EMI|\n",
            "| B-25923|  3873|  -891|       6|Electronics|          Phones|Credit Card|\n",
            "| B-25756|   729|  -492|       5|  Furniture|       Bookcases|        UPI|\n",
            "| B-25761|  2188|  1050|       5|  Furniture|       Bookcases|Credit Card|\n",
            "| B-25655|     6|    -3|       1|   Clothing|     Hankerchief|        UPI|\n",
            "| B-25786|  1854|   433|       5|  Furniture|       Bookcases|Credit Card|\n",
            "| B-26095|     6|     1|       1|   Clothing|           Kurti|        UPI|\n",
            "| B-25853|  2093|   721|       5|  Furniture|          Chairs|Credit Card|\n",
            "| B-25735|     7|    -1|       2|   Clothing|           Skirt|        UPI|\n",
            "+--------+------+------+--------+-----------+----------------+-----------+\n",
            "only showing top 20 rows\n",
            "\n"
          ]
        }
      ]
    },
    {
      "cell_type": "code",
      "source": [
        "spark.select('Amount','Category').show()"
      ],
      "metadata": {
        "colab": {
          "base_uri": "https://localhost:8080/"
        },
        "id": "wKeMKU3hCRNb",
        "outputId": "2e61127e-6b3d-4bbc-e5b3-751b724dd9dd"
      },
      "execution_count": null,
      "outputs": [
        {
          "output_type": "stream",
          "name": "stdout",
          "text": [
            "+------+-----------+\n",
            "|Amount|   Category|\n",
            "+------+-----------+\n",
            "|  1096|Electronics|\n",
            "|  5729|  Furniture|\n",
            "|  2927|  Furniture|\n",
            "|  2847|Electronics|\n",
            "|  2617|Electronics|\n",
            "|  2244|   Clothing|\n",
            "|   275|   Clothing|\n",
            "|   387|   Clothing|\n",
            "|    50|   Clothing|\n",
            "|   135|   Clothing|\n",
            "|   231|   Clothing|\n",
            "|  2125|Electronics|\n",
            "|  3873|Electronics|\n",
            "|   729|  Furniture|\n",
            "|  2188|  Furniture|\n",
            "|     6|   Clothing|\n",
            "|  1854|  Furniture|\n",
            "|     6|   Clothing|\n",
            "|  2093|  Furniture|\n",
            "|     7|   Clothing|\n",
            "+------+-----------+\n",
            "only showing top 20 rows\n",
            "\n"
          ]
        }
      ]
    },
    {
      "cell_type": "code",
      "source": [
        "spark.filter('Amount > 4000').show()"
      ],
      "metadata": {
        "colab": {
          "base_uri": "https://localhost:8080/"
        },
        "id": "qKlVNMvjCRQ0",
        "outputId": "0c44ec27-9f71-4acb-f901-04ec9e0b7176"
      },
      "execution_count": null,
      "outputs": [
        {
          "output_type": "stream",
          "name": "stdout",
          "text": [
            "+--------+------+------+--------+-----------+------------+-----------+\n",
            "|Order_ID|Amount|Profit|Quantity|   Category|Sub-Category|PaymentMode|\n",
            "+--------+------+------+--------+-----------+------------+-----------+\n",
            "| B-26055|  5729|    64|      14|  Furniture|      Chairs|        EMI|\n",
            "| B-25973|  4141|  1698|      13|Electronics|    Printers|        COD|\n",
            "| B-25993|  4363|   305|       5|  Furniture|      Tables|        EMI|\n",
            "+--------+------+------+--------+-----------+------------+-----------+\n",
            "\n"
          ]
        }
      ]
    },
    {
      "cell_type": "code",
      "source": [
        "spark.filter(spark['Amount'] > 4500).show()"
      ],
      "metadata": {
        "colab": {
          "base_uri": "https://localhost:8080/"
        },
        "id": "ohBhjty4C2_g",
        "outputId": "20fa5085-a12e-4540-99a0-e00ce0bec6e9"
      },
      "execution_count": null,
      "outputs": [
        {
          "output_type": "stream",
          "name": "stdout",
          "text": [
            "+--------+------+------+--------+---------+------------+-----------+\n",
            "|Order_ID|Amount|Profit|Quantity| Category|Sub-Category|PaymentMode|\n",
            "+--------+------+------+--------+---------+------------+-----------+\n",
            "| B-26055|  5729|    64|      14|Furniture|      Chairs|        EMI|\n",
            "+--------+------+------+--------+---------+------------+-----------+\n",
            "\n"
          ]
        }
      ]
    },
    {
      "cell_type": "code",
      "source": [
        "spark.filter(spark['Category'] == 'Furniture').show()"
      ],
      "metadata": {
        "colab": {
          "base_uri": "https://localhost:8080/"
        },
        "id": "J9zfaqk8C3Cz",
        "outputId": "e629e342-120e-4378-eaa6-e2cbedc021e7"
      },
      "execution_count": null,
      "outputs": [
        {
          "output_type": "stream",
          "name": "stdout",
          "text": [
            "+--------+------+------+--------+---------+------------+-----------+\n",
            "|Order_ID|Amount|Profit|Quantity| Category|Sub-Category|PaymentMode|\n",
            "+--------+------+------+--------+---------+------------+-----------+\n",
            "| B-26055|  5729|    64|      14|Furniture|      Chairs|        EMI|\n",
            "| B-25955|  2927|   146|       8|Furniture|   Bookcases|        EMI|\n",
            "| B-25756|   729|  -492|       5|Furniture|   Bookcases|        UPI|\n",
            "| B-25761|  2188|  1050|       5|Furniture|   Bookcases|Credit Card|\n",
            "| B-25786|  1854|   433|       5|Furniture|   Bookcases|Credit Card|\n",
            "| B-25853|  2093|   721|       5|Furniture|      Chairs|Credit Card|\n",
            "| B-25910|  1622|  -624|       5|Furniture|      Tables|Credit Card|\n",
            "| B-25686|  1829|   -56|       6|Furniture|      Tables|Credit Card|\n",
            "| B-26048|  1461|   202|       5|Furniture|      Tables|        EMI|\n",
            "| B-26003|  1745|   122|       2|Furniture|      Tables|Credit Card|\n",
            "| B-25797|  1630|   802|       5|Furniture|      Tables|        EMI|\n",
            "| B-25779|  1361|   980|       3|Furniture|      Tables|        COD|\n",
            "| B-25935|  1657|   460|       4|Furniture|      Chairs|Credit Card|\n",
            "| B-25868|  1118|   206|       2|Furniture|      Tables|Credit Card|\n",
            "| B-25608|  1364|  1864|       5|Furniture|      Tables|Credit Card|\n",
            "| B-25995|  1314|   342|       3|Furniture|   Bookcases|Credit Card|\n",
            "| B-25929|  1308|   536|       3|Furniture|   Bookcases|Credit Card|\n",
            "| B-25852|   869|    67|       4|Furniture|      Tables|        COD|\n",
            "| B-25898|   857|  -274|       2|Furniture|      Tables|        COD|\n",
            "| B-26100|   828|   230|       2|Furniture|      Chairs|        COD|\n",
            "+--------+------+------+--------+---------+------------+-----------+\n",
            "only showing top 20 rows\n",
            "\n"
          ]
        }
      ]
    },
    {
      "cell_type": "code",
      "source": [
        "spark.filter((spark['Amount'] > 3000) & (spark['Profit'] > 750)).show()"
      ],
      "metadata": {
        "colab": {
          "base_uri": "https://localhost:8080/"
        },
        "id": "UwXIwOdAC3GF",
        "outputId": "f4c6735c-a670-488f-a717-e751c2a77c70"
      },
      "execution_count": null,
      "outputs": [
        {
          "output_type": "stream",
          "name": "stdout",
          "text": [
            "+--------+------+------+--------+-----------+------------+-----------+\n",
            "|Order_ID|Amount|Profit|Quantity|   Category|Sub-Category|PaymentMode|\n",
            "+--------+------+------+--------+-----------+------------+-----------+\n",
            "| B-25973|  4141|  1698|      13|Electronics|    Printers|        COD|\n",
            "+--------+------+------+--------+-----------+------------+-----------+\n",
            "\n"
          ]
        }
      ]
    },
    {
      "cell_type": "code",
      "source": [
        "spark.filter((spark['Category'] == 'Furniture') | (spark['Amount'] > 3000)).show()"
      ],
      "metadata": {
        "colab": {
          "base_uri": "https://localhost:8080/"
        },
        "id": "kw9PfAGNDEmS",
        "outputId": "f8be25dd-22a0-40b6-ac1f-de2a363acb32"
      },
      "execution_count": null,
      "outputs": [
        {
          "output_type": "stream",
          "name": "stdout",
          "text": [
            "+--------+------+------+--------+-----------+------------+-----------+\n",
            "|Order_ID|Amount|Profit|Quantity|   Category|Sub-Category|PaymentMode|\n",
            "+--------+------+------+--------+-----------+------------+-----------+\n",
            "| B-26055|  5729|    64|      14|  Furniture|      Chairs|        EMI|\n",
            "| B-25955|  2927|   146|       8|  Furniture|   Bookcases|        EMI|\n",
            "| B-25923|  3873|  -891|       6|Electronics|      Phones|Credit Card|\n",
            "| B-25756|   729|  -492|       5|  Furniture|   Bookcases|        UPI|\n",
            "| B-25761|  2188|  1050|       5|  Furniture|   Bookcases|Credit Card|\n",
            "| B-25786|  1854|   433|       5|  Furniture|   Bookcases|Credit Card|\n",
            "| B-25853|  2093|   721|       5|  Furniture|      Chairs|Credit Card|\n",
            "| B-25910|  1622|  -624|       5|  Furniture|      Tables|Credit Card|\n",
            "| B-25686|  1829|   -56|       6|  Furniture|      Tables|Credit Card|\n",
            "| B-26048|  1461|   202|       5|  Furniture|      Tables|        EMI|\n",
            "| B-26003|  1745|   122|       2|  Furniture|      Tables|Credit Card|\n",
            "| B-25797|  1630|   802|       5|  Furniture|      Tables|        EMI|\n",
            "| B-25779|  1361|   980|       3|  Furniture|      Tables|        COD|\n",
            "| B-25935|  1657|   460|       4|  Furniture|      Chairs|Credit Card|\n",
            "| B-25868|  1118|   206|       2|  Furniture|      Tables|Credit Card|\n",
            "| B-25608|  1364|  1864|       5|  Furniture|      Tables|Credit Card|\n",
            "| B-25995|  1314|   342|       3|  Furniture|   Bookcases|Credit Card|\n",
            "| B-25929|  1308|   536|       3|  Furniture|   Bookcases|Credit Card|\n",
            "| B-25852|   869|    67|       4|  Furniture|      Tables|        COD|\n",
            "| B-25898|   857|  -274|       2|  Furniture|      Tables|        COD|\n",
            "+--------+------+------+--------+-----------+------------+-----------+\n",
            "only showing top 20 rows\n",
            "\n"
          ]
        }
      ]
    },
    {
      "cell_type": "code",
      "source": [
        "spark.filter(~(spark['Quantity'] < 13)).show()"
      ],
      "metadata": {
        "colab": {
          "base_uri": "https://localhost:8080/"
        },
        "id": "KKWELPArDEpA",
        "outputId": "cccd86c1-7731-4aa4-8359-081014f1372d"
      },
      "execution_count": null,
      "outputs": [
        {
          "output_type": "stream",
          "name": "stdout",
          "text": [
            "+--------+------+------+--------+-----------+------------+-----------+\n",
            "|Order_ID|Amount|Profit|Quantity|   Category|Sub-Category|PaymentMode|\n",
            "+--------+------+------+--------+-----------+------------+-----------+\n",
            "| B-26055|  5729|    64|      14|  Furniture|      Chairs|        EMI|\n",
            "| B-25640|  1499|   239|      13|   Clothing|       Saree|Credit Card|\n",
            "| B-26019|   585|   175|      13|   Clothing|     T-shirt|        COD|\n",
            "| B-26055|   213|     4|      14|   Clothing|       Shirt|        COD|\n",
            "| B-25798|  2830| -1981|      13|  Furniture|   Bookcases|        EMI|\n",
            "| B-25973|  4141|  1698|      13|Electronics|    Printers|        COD|\n",
            "+--------+------+------+--------+-----------+------------+-----------+\n",
            "\n"
          ]
        }
      ]
    },
    {
      "cell_type": "code",
      "source": [
        "spark.groupby('Category').sum('Amount').show()"
      ],
      "metadata": {
        "colab": {
          "base_uri": "https://localhost:8080/"
        },
        "id": "zt7Rsi6zDEr2",
        "outputId": "677eb706-1754-4829-e7eb-65010e4275c3"
      },
      "execution_count": null,
      "outputs": [
        {
          "output_type": "stream",
          "name": "stdout",
          "text": [
            "+-----------+-----------+\n",
            "|   Category|sum(Amount)|\n",
            "+-----------+-----------+\n",
            "|Electronics|     166267|\n",
            "|   Clothing|     144323|\n",
            "|  Furniture|     127181|\n",
            "+-----------+-----------+\n",
            "\n"
          ]
        }
      ]
    },
    {
      "cell_type": "code",
      "source": [
        "spark.agg({'Amount':'count'}).show()"
      ],
      "metadata": {
        "colab": {
          "base_uri": "https://localhost:8080/"
        },
        "id": "7xYwic_IDEux",
        "outputId": "21344070-e5d9-4c93-9d23-66671e1ea6bd"
      },
      "execution_count": null,
      "outputs": [
        {
          "output_type": "stream",
          "name": "stdout",
          "text": [
            "+-------------+\n",
            "|count(Amount)|\n",
            "+-------------+\n",
            "|         1500|\n",
            "+-------------+\n",
            "\n"
          ]
        }
      ]
    },
    {
      "cell_type": "code",
      "source": [
        "# Note: To reflect the changes to a dataframe, assign it to a dataframe (equivalent to inplace in Pandas)"
      ],
      "metadata": {
        "id": "UsShRshPDExZ"
      },
      "execution_count": null,
      "outputs": []
    },
    {
      "cell_type": "code",
      "source": [],
      "metadata": {
        "id": "EDm6GZRvDEz4"
      },
      "execution_count": null,
      "outputs": []
    },
    {
      "cell_type": "code",
      "source": [],
      "metadata": {
        "id": "cgEGaC6lC3JG"
      },
      "execution_count": null,
      "outputs": []
    },
    {
      "cell_type": "code",
      "source": [],
      "metadata": {
        "id": "fv5B4Iq_BPlB"
      },
      "execution_count": null,
      "outputs": []
    }
  ]
}